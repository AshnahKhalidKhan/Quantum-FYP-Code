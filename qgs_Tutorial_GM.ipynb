{
  "nbformat": 4,
  "nbformat_minor": 0,
  "metadata": {
    "colab": {
      "provenance": [],
      "toc_visible": true
    },
    "kernelspec": {
      "name": "python3",
      "display_name": "Python 3"
    },
    "language_info": {
      "name": "python"
    }
  },
  "cells": [
    {
      "cell_type": "markdown",
      "source": [
        "### Imports"
      ],
      "metadata": {
        "id": "lr1eak9_cv32"
      }
    },
    {
      "cell_type": "code",
      "source": [
        "import numpy as np"
      ],
      "metadata": {
        "id": "K_twk-rxct8l"
      },
      "execution_count": 50,
      "outputs": []
    },
    {
      "cell_type": "markdown",
      "source": [
        "### Install Cirq"
      ],
      "metadata": {
        "id": "-hFm3s5sJcrB"
      }
    },
    {
      "cell_type": "code",
      "execution_count": 51,
      "metadata": {
        "id": "iFmC_etXDJ2T"
      },
      "outputs": [],
      "source": [
        "try:\n",
        "  import cirq\n",
        "except ImportError:\n",
        "  print(\"Installing Cirq...\")\n",
        "  !pip install --quiet cirq\n",
        "  import cirq\n",
        "\n",
        "  print(\"Cirq is now installed.\")"
      ]
    },
    {
      "cell_type": "markdown",
      "source": [
        "### Helper Functions"
      ],
      "metadata": {
        "id": "H_TZFw_Hay50"
      }
    },
    {
      "cell_type": "code",
      "source": [
        "def norm(vector):\n",
        "  return np.linalg.norm(vector, 2)\n",
        "\n",
        "def frobenius_norm(matrix):\n",
        "  return np.linalg.norm(matrix, 'fro')\n",
        "\n",
        "def ket(i, m):\n",
        "  return [1 if j == i else 0 for j in range(m)]"
      ],
      "metadata": {
        "id": "HXTSG8Y9YfZZ"
      },
      "execution_count": 52,
      "outputs": []
    },
    {
      "cell_type": "markdown",
      "source": [
        "### $R_i$ Gate"
      ],
      "metadata": {
        "id": "HguW-zQcbjN8"
      }
    },
    {
      "cell_type": "code",
      "source": [
        "class R(cirq.Gate):\n",
        "  def __init__(self, i, t):\n",
        "    super(R, self)\n",
        "    self.i = i\n",
        "    self.t = t\n",
        "\n",
        "  def _num_qubits_(self):\n",
        "    d = len(t)\n",
        "    return ceil(log2(d))\n",
        "\n",
        "  def _unitary_(self):\n",
        "    t_i = [self.t[self.i]]\n",
        "    I = np.eye(len(t_i))\n",
        "    return I - (2 * np.outer(t_i, t_i))\n",
        "\n",
        "  def _circuit_diagram_info_(self, args):\n",
        "    return f\"R{self.i}\""
      ],
      "metadata": {
        "id": "rz9VxKuWaJBQ"
      },
      "execution_count": 53,
      "outputs": []
    },
    {
      "cell_type": "markdown",
      "source": [
        "### Input"
      ],
      "metadata": {
        "id": "PhoNcR9UQ1Tn"
      }
    },
    {
      "cell_type": "code",
      "source": [
        "zero_state = [1, 0]\n",
        "plus_state = [2**(-0.5), 2**(-0.5)]\n",
        "\n",
        "A = [zero_state, plus_state]\n",
        "print(f\"A = {A}\")\n",
        "\n",
        "print()\n",
        "\n",
        "m = len(zero_state)\n",
        "d = len(A)\n",
        "\n",
        "print(f\"m = {m}\")\n",
        "print(f\"d = {d}\")\n",
        "\n",
        "print()\n",
        "\n",
        "A_F = frobenius_norm(A)\n",
        "print(f\"|A|_F = {A_F}\")\n"
      ],
      "metadata": {
        "id": "PUFosP9oQ2jT",
        "colab": {
          "base_uri": "https://localhost:8080/"
        },
        "outputId": "1ed5679a-5dce-4748-9f32-9111d70f8931"
      },
      "execution_count": 54,
      "outputs": [
        {
          "output_type": "stream",
          "name": "stdout",
          "text": [
            "A = [[1, 0], [0.7071067811865476, 0.7071067811865476]]\n",
            "\n",
            "m = 2\n",
            "d = 2\n",
            "\n",
            "|A|_F = 1.4142135623730951\n"
          ]
        }
      ]
    },
    {
      "cell_type": "markdown",
      "source": [
        "### $V_A$"
      ],
      "metadata": {
        "id": "7dy5m99cej1c"
      }
    },
    {
      "cell_type": "code",
      "source": [
        "V_A = []\n",
        "\n",
        "# Resize it to the correct shape and fill with 0s.\n",
        "for i in range(m):\n",
        "  V_A.append(0)\n",
        "\n",
        "for i in range(m):\n",
        "  print(f\"A_{i} = {A[i]}\")\n",
        "\n",
        "  A_i = norm(A[i])\n",
        "  print(f\"|A_{i}| = {A_i}\")\n",
        "\n",
        "  ket_i = ket(i, m)\n",
        "  print(f\"|{i}〉= {ket_i}\")\n",
        "\n",
        "  # The amplitude (or coefficient) of each ket is the ratio between |A_i| and |A|_F.\n",
        "  # This is to renormalise each vector, ensuring unit length.\n",
        "  amplitude = A_i / A_F\n",
        "  print(f\"|A_i|/|A|_F = {amplitude}\")\n",
        "\n",
        "  for j in range(m):\n",
        "    ket_i[j] *= amplitude\n",
        "  print(f\"(|A_{i}|/|A|_F)|{i}〉= {ket_i}\")\n",
        "\n",
        "  print()\n",
        "\n",
        "  for j in range(m):\n",
        "    V_A[j] += ket_i[j]\n",
        "\n",
        "print(f\"V_A = {V_A}\")"
      ],
      "metadata": {
        "colab": {
          "base_uri": "https://localhost:8080/"
        },
        "id": "Sef6kLE7d6nJ",
        "outputId": "94eafdfe-84a0-4b14-b4d5-5cbe7e55d862"
      },
      "execution_count": 55,
      "outputs": [
        {
          "output_type": "stream",
          "name": "stdout",
          "text": [
            "A_0 = [1, 0]\n",
            "|A_0| = 1.0\n",
            "|0〉= [1, 0]\n",
            "|A_i|/|A|_F = 0.7071067811865475\n",
            "(|A_0|/|A|_F)|0〉= [0.7071067811865475, 0.0]\n",
            "\n",
            "A_1 = [0.7071067811865476, 0.7071067811865476]\n",
            "|A_1| = 1.0\n",
            "|1〉= [0, 1]\n",
            "|A_i|/|A|_F = 0.7071067811865475\n",
            "(|A_1|/|A|_F)|1〉= [0.0, 0.7071067811865475]\n",
            "\n",
            "V_A = [0.7071067811865475, 0.7071067811865475]\n"
          ]
        }
      ]
    },
    {
      "cell_type": "markdown",
      "source": [
        "### $U_A$"
      ],
      "metadata": {
        "id": "FepCgAGEeqc4"
      }
    },
    {
      "cell_type": "code",
      "source": [
        "for i in range(m):\n",
        "  U_A = [0] * (m * d)\n",
        "  print(\"U_A for i = \", i, \" (initially): \", U_A)\n",
        "\n",
        "  ket_i = ket(i, m)\n",
        "\n",
        "  for j in range(d):\n",
        "    print(\"A_\", i, \": \", A[i])\n",
        "    print(\"A_\", i, j, \": \", A[i][j])\n",
        "    print(\"|\", i, \"〉: \", ket_i)\n",
        "\n",
        "    ket_j = ket(j, d)\n",
        "    print(\"|\", j, \"〉: \", ket_j)\n",
        "\n",
        "    A_i = norm(A[i])\n",
        "    print(\"|| A_\", i, \" ||: \", A_i)\n",
        "\n",
        "    A_ij_divided_by_A_i = A[i][j] / A_i\n",
        "    print(\"A_\", i, j, \" / || A_\", i, \" ||: \", A[i][j], \"/\", A_i, \" = \", A_ij_divided_by_A_i)\n",
        "\n",
        "    # Tensor ka function banana🍌 hoga\n",
        "    ket_i_tensor_ket_j = [ket_i[l] * ket_j[n] for l in range(m) for n in range(d)]\n",
        "    print(\"|\", i, \"〉|\", j, \"〉: \", ket_i_tensor_ket_j)\n",
        "\n",
        "    for p in range(m * d):\n",
        "      ket_i_tensor_ket_j[p] = A_ij_divided_by_A_i * ket_i_tensor_ket_j[p]\n",
        "    print(\"(A_\", i, j, \" / || A_\", i, \" ||)*|\", i, \"〉|\", j, \"〉: (\", A[i][j], \"/\", A_i, \")*(|\", i, \"〉|\", j, \"〉) = \", ket_i_tensor_ket_j, \"\\n\")\n",
        "\n",
        "    U_A = [sum(x) for x in zip(U_A, ket_i_tensor_ket_j)]\n",
        "  print(\"U_A for i = \", i, \": \", U_A, \"\\n\")"
      ],
      "metadata": {
        "id": "19BBd1WRepQX",
        "colab": {
          "base_uri": "https://localhost:8080/"
        },
        "outputId": "775f8439-07b2-4f30-c56c-9988c42b2659"
      },
      "execution_count": 56,
      "outputs": [
        {
          "output_type": "stream",
          "name": "stdout",
          "text": [
            "U_A for i =  0  (initially):  [0, 0, 0, 0]\n",
            "A_ 0 :  [1, 0]\n",
            "A_ 0 0 :  1\n",
            "| 0 〉:  [1, 0]\n",
            "| 0 〉:  [1, 0]\n",
            "|| A_ 0  ||:  1.0\n",
            "A_ 0 0  / || A_ 0  ||:  1 / 1.0  =  1.0\n",
            "| 0 〉| 0 〉:  [1, 0, 0, 0]\n",
            "(A_ 0 0  / || A_ 0  ||)*| 0 〉| 0 〉: ( 1 / 1.0 )*(| 0 〉| 0 〉) =  [1.0, 0.0, 0.0, 0.0] \n",
            "\n",
            "A_ 0 :  [1, 0]\n",
            "A_ 0 1 :  0\n",
            "| 0 〉:  [1, 0]\n",
            "| 1 〉:  [0, 1]\n",
            "|| A_ 0  ||:  1.0\n",
            "A_ 0 1  / || A_ 0  ||:  0 / 1.0  =  0.0\n",
            "| 0 〉| 1 〉:  [0, 1, 0, 0]\n",
            "(A_ 0 1  / || A_ 0  ||)*| 0 〉| 1 〉: ( 0 / 1.0 )*(| 0 〉| 1 〉) =  [0.0, 0.0, 0.0, 0.0] \n",
            "\n",
            "U_A for i =  0 :  [1.0, 0.0, 0.0, 0.0] \n",
            "\n",
            "U_A for i =  1  (initially):  [0, 0, 0, 0]\n",
            "A_ 1 :  [0.7071067811865476, 0.7071067811865476]\n",
            "A_ 1 0 :  0.7071067811865476\n",
            "| 1 〉:  [0, 1]\n",
            "| 0 〉:  [1, 0]\n",
            "|| A_ 1  ||:  1.0\n",
            "A_ 1 0  / || A_ 1  ||:  0.7071067811865476 / 1.0  =  0.7071067811865476\n",
            "| 1 〉| 0 〉:  [0, 0, 1, 0]\n",
            "(A_ 1 0  / || A_ 1  ||)*| 1 〉| 0 〉: ( 0.7071067811865476 / 1.0 )*(| 1 〉| 0 〉) =  [0.0, 0.0, 0.7071067811865476, 0.0] \n",
            "\n",
            "A_ 1 :  [0.7071067811865476, 0.7071067811865476]\n",
            "A_ 1 1 :  0.7071067811865476\n",
            "| 1 〉:  [0, 1]\n",
            "| 1 〉:  [0, 1]\n",
            "|| A_ 1  ||:  1.0\n",
            "A_ 1 1  / || A_ 1  ||:  0.7071067811865476 / 1.0  =  0.7071067811865476\n",
            "| 1 〉| 1 〉:  [0, 0, 0, 1]\n",
            "(A_ 1 1  / || A_ 1  ||)*| 1 〉| 1 〉: ( 0.7071067811865476 / 1.0 )*(| 1 〉| 1 〉) =  [0.0, 0.0, 0.0, 0.7071067811865476] \n",
            "\n",
            "U_A for i =  1 :  [0.0, 0.0, 0.7071067811865476, 0.7071067811865476] \n",
            "\n"
          ]
        }
      ]
    },
    {
      "cell_type": "code",
      "source": [
        "# Determinants of n x n matrices using numpy\n",
        "A = [[1, 2, 3],\n",
        "     [4, 5, 6],\n",
        "     [7, 8, 9]]\n",
        "\n",
        "determinant_A = np.linalg.det(A)\n",
        "\n",
        "print(A)\n",
        "print(determinant_A)\n",
        "\n",
        "B = [[1, 0, 4, -6],\n",
        "    [2, 5, 0, 3],\n",
        "    [2, 0, 8, -12],\n",
        "    [2, 1, -2, 3]]\n",
        "\n",
        "determinant_B = np.linalg.det(B)\n",
        "\n",
        "print(B)\n",
        "print(determinant_B)\n",
        "\n",
        "C = [[1, 1, -1],\n",
        "     [1, 2, 2],\n",
        "     [0, 3, 4]]\n",
        "\n",
        "determinant_C = np.linalg.det(C)\n",
        "\n",
        "print(C)\n",
        "print(determinant_C)\n",
        "\n",
        "\n",
        "X = [[0.5, 0.5, 0.5, 0.5],\n",
        "     [0.5, -0.5, 0.5, 0.5],\n",
        "     [0.5, 0.5, -0.5, 0.5],\n",
        "     [0.5, -0.5, -0.5, -0.5]]\n",
        "\n",
        "determinant_X = np.linalg.det(X)\n",
        "\n",
        "print(X)\n",
        "print(determinant_X)"
      ],
      "metadata": {
        "colab": {
          "base_uri": "https://localhost:8080/"
        },
        "id": "4igRvr4fQESD",
        "outputId": "cec43040-c8cd-4803-fb50-58d134cb18c2"
      },
      "execution_count": 57,
      "outputs": [
        {
          "output_type": "stream",
          "name": "stdout",
          "text": [
            "[[1, 2, 3], [4, 5, 6], [7, 8, 9]]\n",
            "0.0\n",
            "[[1, 0, 4, -6], [2, 5, 0, 3], [2, 0, 8, -12], [2, 1, -2, 3]]\n",
            "0.0\n",
            "[[1, 1, -1], [1, 2, 2], [0, 3, 4]]\n",
            "-5.000000000000001\n",
            "[[0.5, 0.5, 0.5, 0.5], [0.5, -0.5, 0.5, 0.5], [0.5, 0.5, -0.5, 0.5], [0.5, -0.5, -0.5, -0.5]]\n",
            "-0.5\n"
          ]
        }
      ]
    },
    {
      "cell_type": "code",
      "source": [
        "# Dot product of vectors\n",
        "# print(len(X))\n",
        "\n",
        "X = [[0.5, 0.5, 0.5, 0.5],\n",
        "     [0.5, -0.5, 0.5, 0.5],\n",
        "     [0.5, 0.5, -0.5, 0.5],\n",
        "     [0.5, -0.5, -0.5, -0.5]]\n",
        "print(\"X: \", X)\n",
        "\n",
        "n = len(X)\n",
        "\n",
        "transpose_X = [] # To access columns easily\n",
        "\n",
        "for i in range(n):\n",
        "  i_th_column = []\n",
        "  for j in range(n):\n",
        "    i_th_column.append(X[j][i])\n",
        "  transpose_X.append(i_th_column)\n",
        "\n",
        "print(\"Transpose of X: \", transpose_X, \"(to access columns easily)\")\n",
        "\n",
        "for i in range(n):\n",
        "  for j in range(n):\n",
        "    if j > i and np.dot(transpose_X[i], transpose_X[j]) == 0:\n",
        "      print(\"transpose_X[\", i, \"] = \", transpose_X[i], \", transpose_X[\", j, \"] = \", transpose_X[j],\" are perpendicular\")\n",
        "    if j > i and np.dot(transpose_X[i], transpose_X[j]) != 0:\n",
        "      print(\"transpose_X[\", i, \"] = \", transpose_X[i], \", transpose_X[\", j, \"] = \", transpose_X[j],\" are not perpendicular\")"
      ],
      "metadata": {
        "colab": {
          "base_uri": "https://localhost:8080/"
        },
        "id": "7luy6ZTGUnNR",
        "outputId": "253ff04e-4569-42e5-b85c-85c78da7af0a"
      },
      "execution_count": 58,
      "outputs": [
        {
          "output_type": "stream",
          "name": "stdout",
          "text": [
            "X:  [[0.5, 0.5, 0.5, 0.5], [0.5, -0.5, 0.5, 0.5], [0.5, 0.5, -0.5, 0.5], [0.5, -0.5, -0.5, -0.5]]\n",
            "Transpose of X:  [[0.5, 0.5, 0.5, 0.5], [0.5, -0.5, 0.5, -0.5], [0.5, 0.5, -0.5, -0.5], [0.5, 0.5, 0.5, -0.5]] (to access columns easily)\n",
            "transpose_X[ 0 ] =  [0.5, 0.5, 0.5, 0.5] , transpose_X[ 1 ] =  [0.5, -0.5, 0.5, -0.5]  are perpendicular\n",
            "transpose_X[ 0 ] =  [0.5, 0.5, 0.5, 0.5] , transpose_X[ 2 ] =  [0.5, 0.5, -0.5, -0.5]  are perpendicular\n",
            "transpose_X[ 0 ] =  [0.5, 0.5, 0.5, 0.5] , transpose_X[ 3 ] =  [0.5, 0.5, 0.5, -0.5]  are not perpendicular\n",
            "transpose_X[ 1 ] =  [0.5, -0.5, 0.5, -0.5] , transpose_X[ 2 ] =  [0.5, 0.5, -0.5, -0.5]  are perpendicular\n",
            "transpose_X[ 1 ] =  [0.5, -0.5, 0.5, -0.5] , transpose_X[ 3 ] =  [0.5, 0.5, 0.5, -0.5]  are not perpendicular\n",
            "transpose_X[ 2 ] =  [0.5, 0.5, -0.5, -0.5] , transpose_X[ 3 ] =  [0.5, 0.5, 0.5, -0.5]  are not perpendicular\n"
          ]
        }
      ]
    },
    {
      "cell_type": "code",
      "source": [
        "# Projection Time!\n",
        "\n",
        "def proj(u_j, v_i):\n",
        "  inner_product_u_j_v_i_divided_by_inner_product_u_j_u_j = np.dot(v_i, u_j)/np.dot(u_j, u_j)\n",
        "  # print(\"v, u\", np.dot(v_i, u_j))\n",
        "  # print(\"u, u\", np.dot(u_j, u_j))\n",
        "  # u_k = []\n",
        "  # for x in range(u_j.size):\n",
        "  #   # print(u_j[x])\n",
        "  #   u_k.append(u_j[x])\n",
        "  # for i in range(u_j.size):\n",
        "  #   u_k[i] = u_k[i] * inner_product_u_j_v_i_divided_by_inner_product_u_j_u_j\n",
        "  u_j = u_j * inner_product_u_j_v_i_divided_by_inner_product_u_j_u_j\n",
        "  # print(\"u_k\", u_k, \"   u_j\", u_j)\n",
        "  # if (u_k == u_j).all():\n",
        "  #   print(\"opa!\")\n",
        "  return u_j\n",
        "\n",
        "# v4 - proj_u1(v4)- proj_u2(v4)- proj_u3(v4)\n",
        "# proj_x(y) = ( ⟨y, x〉/ ⟨x, x〉)*x= ((y dot x)/(x dot x))*x\n",
        "\n",
        "U = []\n",
        "\n",
        "for i in range(n):\n",
        "  # print(transpose_X[i])\n",
        "  v_i = np.array(transpose_X[i])\n",
        "  u_i = v_i\n",
        "  print(\"v_\", i, \": \", v_i)\n",
        "  print(\"u_\", i, \": \", u_i, \"(initially)\")\n",
        "  # print(u_i)\n",
        "  for j in range(n):\n",
        "    if j < i:\n",
        "      # print(transpose_X[i])\n",
        "      # print(i, \" \", j)\n",
        "      print(\"proj_u_\", j, \"(v_\", i, \"): \", proj(U[j], v_i))\n",
        "      u_i = u_i - proj(U[j], v_i)\n",
        "  print(\"u_\", i, \": \", u_i, \"(final)\")\n",
        "  U.append(u_i)\n",
        "  print(\"U : \", U, \"\\n\")\n",
        "\n",
        "# column1 = np.array([0.5, 0.5, 0.5, 0.5])\n",
        "# print(np.dot(column1, column1))\n",
        "print(\"U : \", U, \"(Final)\\n\")"
      ],
      "metadata": {
        "colab": {
          "base_uri": "https://localhost:8080/"
        },
        "id": "WxY5Mu3mMENj",
        "outputId": "b279c62e-117e-4f6a-fc48-66d6a4ef811d"
      },
      "execution_count": 59,
      "outputs": [
        {
          "output_type": "stream",
          "name": "stdout",
          "text": [
            "v_ 0 :  [0.5 0.5 0.5 0.5]\n",
            "u_ 0 :  [0.5 0.5 0.5 0.5] (initially)\n",
            "u_ 0 :  [0.5 0.5 0.5 0.5] (final)\n",
            "U :  [array([0.5, 0.5, 0.5, 0.5])] \n",
            "\n",
            "v_ 1 :  [ 0.5 -0.5  0.5 -0.5]\n",
            "u_ 1 :  [ 0.5 -0.5  0.5 -0.5] (initially)\n",
            "proj_u_ 0 (v_ 1 ):  [0. 0. 0. 0.]\n",
            "u_ 1 :  [ 0.5 -0.5  0.5 -0.5] (final)\n",
            "U :  [array([0.5, 0.5, 0.5, 0.5]), array([ 0.5, -0.5,  0.5, -0.5])] \n",
            "\n",
            "v_ 2 :  [ 0.5  0.5 -0.5 -0.5]\n",
            "u_ 2 :  [ 0.5  0.5 -0.5 -0.5] (initially)\n",
            "proj_u_ 0 (v_ 2 ):  [0. 0. 0. 0.]\n",
            "proj_u_ 1 (v_ 2 ):  [ 0. -0.  0. -0.]\n",
            "u_ 2 :  [ 0.5  0.5 -0.5 -0.5] (final)\n",
            "U :  [array([0.5, 0.5, 0.5, 0.5]), array([ 0.5, -0.5,  0.5, -0.5]), array([ 0.5,  0.5, -0.5, -0.5])] \n",
            "\n",
            "v_ 3 :  [ 0.5  0.5  0.5 -0.5]\n",
            "u_ 3 :  [ 0.5  0.5  0.5 -0.5] (initially)\n",
            "proj_u_ 0 (v_ 3 ):  [0.25 0.25 0.25 0.25]\n",
            "proj_u_ 1 (v_ 3 ):  [ 0.25 -0.25  0.25 -0.25]\n",
            "proj_u_ 2 (v_ 3 ):  [ 0.25  0.25 -0.25 -0.25]\n",
            "u_ 3 :  [-0.25  0.25  0.25 -0.25] (final)\n",
            "U :  [array([0.5, 0.5, 0.5, 0.5]), array([ 0.5, -0.5,  0.5, -0.5]), array([ 0.5,  0.5, -0.5, -0.5]), array([-0.25,  0.25,  0.25, -0.25])] \n",
            "\n",
            "U :  [array([0.5, 0.5, 0.5, 0.5]), array([ 0.5, -0.5,  0.5, -0.5]), array([ 0.5,  0.5, -0.5, -0.5]), array([-0.25,  0.25,  0.25, -0.25])] (Final)\n",
            "\n"
          ]
        }
      ]
    },
    {
      "cell_type": "code",
      "source": [
        "# # Bernstein Vizarani - complete!!!\n",
        "\n",
        "# n =  2 # No. of bits\n",
        "# M = (1 << n) \t# No. of rows (2^n)\n",
        "# N = (1 << n) + n \t# No. of columns (2^n + n)\n",
        "\n",
        "# Table = [] # Final table\n",
        "\n",
        "# for row in range(M):\n",
        "#   Table.append([])\n",
        "#   for column in range(N):\n",
        "#     Table[row].append(0)\n",
        "\n",
        "# for column in range(n):\n",
        "#   bit = 0\n",
        "#   count = 0\n",
        "#   powerOfTwo = (1 << (n - 1 - column))\n",
        "#   for row in range(M):\n",
        "#     if count >= powerOfTwo:\n",
        "#       count = 0\n",
        "#       if bit == 0:\n",
        "#         bit = 1\n",
        "#       elif bit == 1:\n",
        "#         bit = 0\n",
        "#     Table[row][column] = bit\n",
        "#     count = count + 1\n",
        "\n",
        "# JustXTable = []\n",
        "# for row in range(M):\n",
        "#   X = []\n",
        "#   for column in range(n):\n",
        "#     X.append(Table[row][column])\n",
        "#   JustXTable.append(X)\n",
        "\n",
        "# for X in range(M):\n",
        "#   for S in range(M):\n",
        "#     ListOfAnds = []\n",
        "#     for i in range(n):\n",
        "#       ListOfAnds.append(str(JustXTable[X][i]) + '.' + str(JustXTable[S][i]))\n",
        "#     XOROfListOfAnds = ''\n",
        "#     for i in range(n):\n",
        "#       if i == (n - 1):\n",
        "#         XOROfListOfAnds = XOROfListOfAnds + ListOfAnds[i]\n",
        "#       else:\n",
        "#         XOROfListOfAnds = XOROfListOfAnds + ListOfAnds[i] + ' ⊕ '\n",
        "#     Table[X][S + n] = XOROfListOfAnds\n",
        "\n",
        "# print(\"Formula: \\n\")\n",
        "\n",
        "# for row in range(M):\n",
        "#   print(Table[row], \"\\n\")\n",
        "\n",
        "# print(\"After calculating values classically: \\n\")\n",
        "\n",
        "# for X in range(M):\n",
        "#   for S in range(M):\n",
        "#     ListOfAnds = []\n",
        "#     for i in range(n):\n",
        "#       ListOfAnds.append(JustXTable[X][i] & JustXTable[S][i]) # ANDing xi and si\n",
        "#     XOROfListOfAnds = ListOfAnds[0]\n",
        "#     for i in range(n):\n",
        "#       if i != 0:\n",
        "#         XOROfListOfAnds = XOROfListOfAnds ^ ListOfAnds[i] # XORing xi.si with next xi.si\n",
        "#     Table[X][S + n] = XOROfListOfAnds\n",
        "\n",
        "# for row in range(M):\n",
        "#   print(Table[row], \"\\n\")\n",
        "\n",
        "# print(\"After calculating values quantum-way: \\n\")\n",
        "\n",
        "# for row in range(M):\n",
        "#   for column in range(N):\n",
        "#     if column > (n - 1):\n",
        "#       if Table[row][column] == 0:\n",
        "#         Table[row][column] = 0.5\n",
        "#       elif Table[row][column] == 1:\n",
        "#         Table[row][column] = -0.5\n",
        "\n",
        "# for row in range(M):\n",
        "#   print(Table[row], \"\\n\")\n",
        "\n",
        "# print(\"Determing if quantum-way matrix is orthogonal: \\n\")\n",
        "\n",
        "# import numpy as np\n",
        "\n",
        "# Matrix = []\n",
        "\n",
        "# for row in range(M):\n",
        "#   Row = []\n",
        "#   for column in range(N):\n",
        "#     if column > (n - 1):\n",
        "#       Row.append(Table[row][column])\n",
        "#   Matrix.append(Row)\n",
        "\n",
        "# Matrix = np.array(Matrix)\n",
        "# TransposeOfMatrix = Matrix.transpose()\n",
        "\n",
        "# orthognality = True\n",
        "# for i in range(M):\n",
        "#   for j in range(M):\n",
        "#     if i != j and (abs(np.dot(TransposeOfMatrix[i], TransposeOfMatrix[j])) > 1e-9):\n",
        "#       orthognality = False\n",
        "#       break\n",
        "\n",
        "# if orthognality == True:\n",
        "#   print('Matrix is orthogonal')\n",
        "# else:\n",
        "#   print('Matrix is not orthogonal')"
      ],
      "metadata": {
        "id": "UC-OIMacWj9X"
      },
      "execution_count": 60,
      "outputs": []
    },
    {
      "cell_type": "code",
      "source": [
        "# # Bernstein-Vizirani with AND approach\n",
        "\n",
        "# n =  2 # No. of bits\n",
        "# M = (1 << n) \t# No. of rows (2^n)\n",
        "# N = (1 << n) + n \t# No. of columns (2^n + n)\n",
        "\n",
        "# Table = [] # Final table\n",
        "\n",
        "# for row in range(M):\n",
        "#   Table.append([])\n",
        "#   for column in range(N):\n",
        "#     Table[row].append(0)\n",
        "\n",
        "# for column in range(n):\n",
        "#   bit = 0\n",
        "#   count = 0\n",
        "#   powerOfTwo = (1 << (n - 1 - column))\n",
        "#   for row in range(M):\n",
        "#     if count >= powerOfTwo:\n",
        "#       count = 0\n",
        "#       if bit == 0:\n",
        "#         bit = 1\n",
        "#       elif bit == 1:\n",
        "#         bit = 0\n",
        "#     Table[row][column] = bit\n",
        "#     count = count + 1\n",
        "\n",
        "# JustXTable = []\n",
        "# for row in range(M):\n",
        "#   X = []\n",
        "#   for column in range(n):\n",
        "#     X.append(Table[row][column])\n",
        "#   JustXTable.append(X)\n",
        "\n",
        "# for X in range(M):\n",
        "#   for S in range(M):\n",
        "#     ListOfAnds = []\n",
        "#     for i in range(n):\n",
        "#       if JustXTable[S][i] == 1:\n",
        "#         ListOfAnds.append('(' + str(JustXTable[X][i]) + ' & ' + str(JustXTable[S][i]) + ')')\n",
        "#       else:\n",
        "#         ListOfAnds.append('1')\n",
        "#     ANDOfListOfAnds = ''\n",
        "#     for i in range(n):\n",
        "#       if i == (n - 1):\n",
        "#         ANDOfListOfAnds = ANDOfListOfAnds + ListOfAnds[i]\n",
        "#       else:\n",
        "#         ANDOfListOfAnds = ANDOfListOfAnds + ListOfAnds[i] + ' & '\n",
        "#     Table[X][S + n] = ANDOfListOfAnds\n",
        "\n",
        "# print(\"Formula: \\n\")\n",
        "\n",
        "# for row in range(M):\n",
        "#   print(Table[row], \"\\n\")\n",
        "\n",
        "# print(\"After calculating values classically: \\n\")\n",
        "\n",
        "# for X in range(M):\n",
        "#   for S in range(M):\n",
        "#     ListOfAnds = []\n",
        "#     for i in range(n):\n",
        "#       if JustXTable[S][i] == 1:\n",
        "#         ListOfAnds.append(JustXTable[X][i] & JustXTable[S][i]) # ANDing xi and si\n",
        "#       else:\n",
        "#         ListOfAnds.append(1)\n",
        "#     if len(ListOfAnds) != 0:\n",
        "#       ANDOfListOfAnds = ListOfAnds[0]\n",
        "#       for i in range(len(ListOfAnds)):\n",
        "#         if i != 0:\n",
        "#           ANDOfListOfAnds = ANDOfListOfAnds & ListOfAnds[i] # ANDing xi.si with next xi.si\n",
        "#       Table[X][S + n] = ANDOfListOfAnds\n",
        "\n",
        "# for row in range(M):\n",
        "#   print(Table[row], \"\\n\")\n",
        "\n",
        "# print(\"After calculating values quantum-way: \\n\")\n",
        "\n",
        "# for row in range(M):\n",
        "#   for column in range(N):\n",
        "#     if column > (n - 1):\n",
        "#       if Table[row][column] == 0:\n",
        "#         Table[row][column] = 0.5\n",
        "#       elif Table[row][column] == 1:\n",
        "#         Table[row][column] = -0.5\n",
        "\n",
        "# for row in range(M):\n",
        "#   print(Table[row], \"\\n\")\n",
        "\n",
        "# print(\"Determing if quantum-way matrix is orthogonal: \\n\")\n",
        "\n",
        "# import numpy as np\n",
        "\n",
        "# Matrix = []\n",
        "\n",
        "# for row in range(M):\n",
        "#   Row = []\n",
        "#   for column in range(N):\n",
        "#     if column > (n - 1):\n",
        "#       Row.append(Table[row][column])\n",
        "#   Matrix.append(Row)\n",
        "\n",
        "# Matrix = np.array(Matrix)\n",
        "# TransposeOfMatrix = Matrix.transpose()\n",
        "\n",
        "# orthognality = True\n",
        "# for i in range(M):\n",
        "#   for j in range(M):\n",
        "#     if i != j and (abs(np.dot(TransposeOfMatrix[i], TransposeOfMatrix[j])) > 1e-9):\n",
        "#       orthognality = False\n",
        "#       break\n",
        "\n",
        "# if orthognality == True:\n",
        "#   print('Matrix is orthogonal')\n",
        "# else:\n",
        "#   print('Matrix is not orthogonal')"
      ],
      "metadata": {
        "id": "LB8l8oAGgbhm"
      },
      "execution_count": 61,
      "outputs": []
    },
    {
      "cell_type": "code",
      "source": [
        "def printTable(Table):\n",
        "  for row in range(len(Table)):\n",
        "    print(Table[row])"
      ],
      "metadata": {
        "id": "FVl7r3NQ996D"
      },
      "execution_count": 62,
      "outputs": []
    },
    {
      "cell_type": "code",
      "source": [
        "  def initializeTable(n):\n",
        "    M = 1 << n\n",
        "    N = (1 << n) + n\n",
        "    Table = [[0] * N for _ in range(M)]\n",
        "\n",
        "    for column in range(n):\n",
        "        bit, count = 0, 0\n",
        "        powerOfTwo = 1 << (n - 1 - column)\n",
        "\n",
        "        for row in range(M):\n",
        "            if count >= powerOfTwo:\n",
        "                count = 0\n",
        "                bit = 1 - bit  # Toggle between 0 and 1\n",
        "\n",
        "            Table[row][column] = bit\n",
        "            count += 1\n",
        "\n",
        "    return Table"
      ],
      "metadata": {
        "id": "h13bY9WA9DH4"
      },
      "execution_count": 63,
      "outputs": []
    },
    {
      "cell_type": "code",
      "source": [
        "  def makingJustXTableToIterateOverAllXiAndSi(n, Table):\n",
        "    JustXTable = []\n",
        "\n",
        "    for row in range(len(Table)):\n",
        "        X = [Table[row][column] for column in range(n)]\n",
        "        JustXTable.append(X)\n",
        "\n",
        "    return JustXTable"
      ],
      "metadata": {
        "id": "YsD_uXNt_8He"
      },
      "execution_count": 64,
      "outputs": []
    },
    {
      "cell_type": "code",
      "source": [
        "def BernsteinViziraniFunction(n, Table):\n",
        "  FunctionTable = Table\n",
        "  JustXTable = makingJustXTableToIterateOverAllXiAndSi(n, FunctionTable)\n",
        "  for X in range(len(FunctionTable)):\n",
        "    for S in range(len(FunctionTable)):\n",
        "      ListOfAnds = []\n",
        "      for i in range(n):\n",
        "        ListOfAnds.append(JustXTable[X][i] & JustXTable[S][i]) # ANDing xi and si\n",
        "      XOROfListOfAnds = ListOfAnds[0]\n",
        "      for i in range(n):\n",
        "        if i != 0:\n",
        "          XOROfListOfAnds = XOROfListOfAnds ^ ListOfAnds[i] # XORing xi.si with next xi.si\n",
        "      FunctionTable[X][S + n] = XOROfListOfAnds\n",
        "  printTable(FunctionTable)\n",
        "  return FunctionTable"
      ],
      "metadata": {
        "id": "-KMiBQJqEH3Z"
      },
      "execution_count": 65,
      "outputs": []
    },
    {
      "cell_type": "code",
      "source": [
        "def printingBernsteinViziraniFormulaTable(n, Table):\n",
        "  ForumlaTable = Table\n",
        "  JustXTable = makingJustXTableToIterateOverAllXiAndSi(n, ForumlaTable)\n",
        "  for X in range(len(ForumlaTable)):\n",
        "    for S in range(len(ForumlaTable)):\n",
        "      ListOfAnds = []\n",
        "      for i in range(n):\n",
        "        ListOfAnds.append(str(JustXTable[X][i]) + '.' + str(JustXTable[S][i]))\n",
        "      XOROfListOfAnds = ''\n",
        "      for i in range(n):\n",
        "        if i == (n - 1):\n",
        "          XOROfListOfAnds = XOROfListOfAnds + ListOfAnds[i]\n",
        "        else:\n",
        "          XOROfListOfAnds = XOROfListOfAnds + ListOfAnds[i] + ' ⊕ '\n",
        "      ForumlaTable[X][S + n] = XOROfListOfAnds\n",
        "  printTable(ForumlaTable)"
      ],
      "metadata": {
        "id": "STH6Gc5jBJ9V"
      },
      "execution_count": 66,
      "outputs": []
    },
    {
      "cell_type": "code",
      "source": [
        "def ANDApproachFunction(n, Table):\n",
        "  FunctionTable = Table\n",
        "  JustXTable = makingJustXTableToIterateOverAllXiAndSi(n, FunctionTable)\n",
        "  for X in range(len(FunctionTable)):\n",
        "    for S in range(len(FunctionTable)):\n",
        "      ListOfAnds = []\n",
        "      for i in range(n):\n",
        "        if JustXTable[S][i] == 1:\n",
        "          ListOfAnds.append(JustXTable[X][i] & JustXTable[S][i]) # ANDing xi and si\n",
        "        else:\n",
        "          ListOfAnds.append(1)\n",
        "      if len(ListOfAnds) != 0:\n",
        "        ANDOfListOfAnds = ListOfAnds[0]\n",
        "        for i in range(len(ListOfAnds)):\n",
        "          if i != 0:\n",
        "            ANDOfListOfAnds = ANDOfListOfAnds & ListOfAnds[i] # ANDing xi.si with next xi.si\n",
        "        FunctionTable[X][S + n] = ANDOfListOfAnds\n",
        "  printTable(FunctionTable)\n",
        "  return FunctionTable"
      ],
      "metadata": {
        "id": "eINvMpeFEkTn"
      },
      "execution_count": 67,
      "outputs": []
    },
    {
      "cell_type": "code",
      "source": [
        "def printingANDApproachFormulaTable(n, Table):\n",
        "  ForumlaTable = Table\n",
        "  JustXTable = makingJustXTableToIterateOverAllXiAndSi(n, ForumlaTable)\n",
        "  for X in range(len(ForumlaTable)):\n",
        "    for S in range(len(ForumlaTable)):\n",
        "      ListOfAnds = []\n",
        "      for i in range(n):\n",
        "        if JustXTable[S][i] == 1:\n",
        "          ListOfAnds.append('(' + str(JustXTable[X][i]) + ' & ' + str(JustXTable[S][i]) + ')')\n",
        "        else:\n",
        "          ListOfAnds.append('1')\n",
        "      ANDOfListOfAnds = ''\n",
        "      for i in range(n):\n",
        "        if i == (n - 1):\n",
        "          ANDOfListOfAnds = ANDOfListOfAnds + ListOfAnds[i]\n",
        "        else:\n",
        "          ANDOfListOfAnds = ANDOfListOfAnds + ListOfAnds[i] + ' & '\n",
        "      ForumlaTable[X][S + n] = ANDOfListOfAnds\n",
        "  printTable(ForumlaTable)"
      ],
      "metadata": {
        "id": "5orUQRrvDyIc"
      },
      "execution_count": 68,
      "outputs": []
    },
    {
      "cell_type": "code",
      "source": [
        "def convertIntoQuantumTable(n, Table):\n",
        "  QuantumTable = Table\n",
        "  print(QuantumTable)\n",
        "  for row in range(len(QuantumTable)):\n",
        "    for column in range(len(QuantumTable) + n):\n",
        "      if column > (n - 1):\n",
        "        if QuantumTable[row][column] == 0:\n",
        "          QuantumTable[row][column] = 0.5\n",
        "        elif QuantumTable[row][column] == 1:\n",
        "          QuantumTable[row][column] = -0.5\n",
        "  printTable(QuantumTable)\n",
        "  return QuantumTable"
      ],
      "metadata": {
        "id": "oTtPuNQe7Bmh"
      },
      "execution_count": 69,
      "outputs": []
    },
    {
      "cell_type": "code",
      "source": [
        "def checkOrthogonality(n, Table):\n",
        "  import numpy as np\n",
        "  Matrix = []\n",
        "  for row in range(len(Table)):\n",
        "    Row = []\n",
        "    for column in range(len(Table) + n):\n",
        "      if column > (n - 1):\n",
        "        Row.append(Table[row][column])\n",
        "    Matrix.append(Row)\n",
        "  Matrix = np.array(Matrix)\n",
        "  TransposeOfMatrix = Matrix.transpose()\n",
        "  orthognality = True\n",
        "  for i in range(len(Table)):\n",
        "    for j in range(len(Table)):\n",
        "      if i != j and (abs(np.dot(TransposeOfMatrix[i], TransposeOfMatrix[j])) > 1e-9):\n",
        "        orthognality = False\n",
        "        break\n",
        "  if orthognality == True:\n",
        "    print('Matrix is orthogonal')\n",
        "  else:\n",
        "    print('Matrix is not orthogonal')\n",
        "  return orthognality"
      ],
      "metadata": {
        "id": "TSL9WZOd6JF_"
      },
      "execution_count": 70,
      "outputs": []
    },
    {
      "cell_type": "code",
      "source": [
        "# Bernstein-Vizirani\n",
        "\n",
        "n =  2 # No. of bits\n",
        "Table = initializeTable(n)\n",
        "\n",
        "print(\"Formula: \\n\")\n",
        "printingBernsteinViziraniFormulaTable(n, Table)\n",
        "\n",
        "print(\"After calculating values classically: \\n\")\n",
        "Table = BernsteinViziraniFunction(n, Table)\n",
        "\n",
        "print(\"After calculating values quantum-way: \\n\")\n",
        "Table = convertIntoQuantumTable(n, Table)\n",
        "\n",
        "print(\"Determing if quantum-way matrix is orthogonal: \\n\")\n",
        "checkOrthogonality(n, Table)"
      ],
      "metadata": {
        "colab": {
          "base_uri": "https://localhost:8080/"
        },
        "id": "qFpj9OdJ-PqW",
        "outputId": "b9f8dd8e-652f-410e-d6b4-52ba8e33d34c"
      },
      "execution_count": 71,
      "outputs": [
        {
          "output_type": "stream",
          "name": "stdout",
          "text": [
            "Formula: \n",
            "\n",
            "[0, 0, '0.0 ⊕ 0.0', '0.0 ⊕ 0.1', '0.1 ⊕ 0.0', '0.1 ⊕ 0.1']\n",
            "[0, 1, '0.0 ⊕ 1.0', '0.0 ⊕ 1.1', '0.1 ⊕ 1.0', '0.1 ⊕ 1.1']\n",
            "[1, 0, '1.0 ⊕ 0.0', '1.0 ⊕ 0.1', '1.1 ⊕ 0.0', '1.1 ⊕ 0.1']\n",
            "[1, 1, '1.0 ⊕ 1.0', '1.0 ⊕ 1.1', '1.1 ⊕ 1.0', '1.1 ⊕ 1.1']\n",
            "After calculating values classically: \n",
            "\n",
            "[0, 0, 0, 0, 0, 0]\n",
            "[0, 1, 0, 1, 0, 1]\n",
            "[1, 0, 0, 0, 1, 1]\n",
            "[1, 1, 0, 1, 1, 0]\n",
            "After calculating values quantum-way: \n",
            "\n",
            "[[0, 0, 0, 0, 0, 0], [0, 1, 0, 1, 0, 1], [1, 0, 0, 0, 1, 1], [1, 1, 0, 1, 1, 0]]\n",
            "[0, 0, 0.5, 0.5, 0.5, 0.5]\n",
            "[0, 1, 0.5, -0.5, 0.5, -0.5]\n",
            "[1, 0, 0.5, 0.5, -0.5, -0.5]\n",
            "[1, 1, 0.5, -0.5, -0.5, 0.5]\n",
            "Determing if quantum-way matrix is orthogonal: \n",
            "\n",
            "Matrix is orthogonal\n"
          ]
        },
        {
          "output_type": "execute_result",
          "data": {
            "text/plain": [
              "True"
            ]
          },
          "metadata": {},
          "execution_count": 71
        }
      ]
    },
    {
      "cell_type": "code",
      "source": [
        "# Bernstein-Vizirani with AND approach\n",
        "\n",
        "n =  2 # No. of bits\n",
        "Table = initializeTable(n)\n",
        "\n",
        "print(\"Formula: \\n\")\n",
        "printingANDApproachFormulaTable(n, Table)\n",
        "\n",
        "print(\"After calculating values classically: \\n\")\n",
        "Table = ANDApproachFunction(n, Table)\n",
        "\n",
        "print(\"After calculating values quantum-way: \\n\")\n",
        "Table = convertIntoQuantumTable(n, Table)\n",
        "\n",
        "print(\"Determing if quantum-way matrix is orthogonal: \\n\")\n",
        "checkOrthogonality(n, Table)"
      ],
      "metadata": {
        "colab": {
          "base_uri": "https://localhost:8080/"
        },
        "id": "qOTYI89rKcP7",
        "outputId": "66ef1ac3-3af5-4139-eb86-bf91de0f8d49"
      },
      "execution_count": 72,
      "outputs": [
        {
          "output_type": "stream",
          "name": "stdout",
          "text": [
            "Formula: \n",
            "\n",
            "[0, 0, '1 & 1', '1 & (0 & 1)', '(0 & 1) & 1', '(0 & 1) & (0 & 1)']\n",
            "[0, 1, '1 & 1', '1 & (1 & 1)', '(0 & 1) & 1', '(0 & 1) & (1 & 1)']\n",
            "[1, 0, '1 & 1', '1 & (0 & 1)', '(1 & 1) & 1', '(1 & 1) & (0 & 1)']\n",
            "[1, 1, '1 & 1', '1 & (1 & 1)', '(1 & 1) & 1', '(1 & 1) & (1 & 1)']\n",
            "After calculating values classically: \n",
            "\n",
            "[0, 0, 1, 0, 0, 0]\n",
            "[0, 1, 1, 1, 0, 0]\n",
            "[1, 0, 1, 0, 1, 0]\n",
            "[1, 1, 1, 1, 1, 1]\n",
            "After calculating values quantum-way: \n",
            "\n",
            "[[0, 0, 1, 0, 0, 0], [0, 1, 1, 1, 0, 0], [1, 0, 1, 0, 1, 0], [1, 1, 1, 1, 1, 1]]\n",
            "[0, 0, -0.5, 0.5, 0.5, 0.5]\n",
            "[0, 1, -0.5, -0.5, 0.5, 0.5]\n",
            "[1, 0, -0.5, 0.5, -0.5, 0.5]\n",
            "[1, 1, -0.5, -0.5, -0.5, -0.5]\n",
            "Determing if quantum-way matrix is orthogonal: \n",
            "\n",
            "Matrix is not orthogonal\n"
          ]
        },
        {
          "output_type": "execute_result",
          "data": {
            "text/plain": [
              "False"
            ]
          },
          "metadata": {},
          "execution_count": 72
        }
      ]
    },
    {
      "cell_type": "code",
      "source": [
        "# def printingSvetlichnyFormulaTable(n, Table):\n",
        "#   ForumlaTable = Table\n",
        "#   JustXTable = makingJustXTableToIterateOverAllXiAndSi(n, ForumlaTable)\n",
        "#   for X in range(len(ForumlaTable)):\n",
        "#     for S in range(len(ForumlaTable)):\n",
        "#       ListOfAnds = []\n",
        "#       for i in range(n):\n",
        "#         if JustXTable[S][i] == 1:\n",
        "#           ListOfAnds.append('(' + str(JustXTable[X][i]) + ' & ' + str(JustXTable[S][i]) + ')')\n",
        "#         else:\n",
        "#           ListOfAnds.append('1')\n",
        "#       ANDOfListOfAnds = ''\n",
        "#       for i in range(n):\n",
        "#         if i == (n - 1):\n",
        "#           ANDOfListOfAnds = ANDOfListOfAnds + ListOfAnds[i]\n",
        "#         else:\n",
        "#           ANDOfListOfAnds = ANDOfListOfAnds + ListOfAnds[i] + ' & '\n",
        "#       ForumlaTable[X][S + n] = ANDOfListOfAnds\n",
        "#   printTable(ForumlaTable)"
      ],
      "metadata": {
        "id": "9Y_Nko2uMUm-"
      },
      "execution_count": 73,
      "outputs": []
    },
    {
      "cell_type": "code",
      "source": [
        "# def SvetlichnyFunction(n, Table):\n",
        "#   FunctionTable = Table\n",
        "#   JustXTable = makingJustXTableToIterateOverAllXiAndSi(n, FunctionTable)\n",
        "#   for X in range(len(FunctionTable)):\n",
        "#     for S in range(len(FunctionTable)):\n",
        "#       ListOfAnds = []\n",
        "#       for i in range(n):\n",
        "#         if JustXTable[S][i] == 1:\n",
        "#           ListOfAnds.append(JustXTable[X][i] & JustXTable[S][i]) # ANDing xi and si\n",
        "#         else:\n",
        "#           ListOfAnds.append(1)\n",
        "#       if len(ListOfAnds) != 0:\n",
        "#         ANDOfListOfAnds = ListOfAnds[0]\n",
        "#         for i in range(len(ListOfAnds)):\n",
        "#           if i != 0:\n",
        "#             ANDOfListOfAnds = ANDOfListOfAnds & ListOfAnds[i] # ANDing xi.si with next xi.si\n",
        "#         FunctionTable[X][S + n] = ANDOfListOfAnds\n",
        "#   printTable(FunctionTable)\n",
        "#   return FunctionTable"
      ],
      "metadata": {
        "id": "eKiBC0KtNGfT"
      },
      "execution_count": 74,
      "outputs": []
    },
    {
      "cell_type": "code",
      "source": [
        "# # Svetlichny\n",
        "\n",
        "# n =  3 # No. of bits\n",
        "# Table = initializeTable(n)\n",
        "\n",
        "# print(\"Formula: \\n\")\n",
        "# printingSvetlichnyFormulaTable(n, Table)\n",
        "\n",
        "# print(\"After calculating values classically: \\n\")\n",
        "# Table = SvetlichnyFunction(n, Table)\n",
        "\n",
        "# print(\"After calculating values quantum-way: \\n\")\n",
        "# Table = convertIntoQuantumTable(n, Table)\n",
        "\n",
        "# print(\"Determing if quantum-way matrix is orthogonal: \\n\")\n",
        "# checkOrthogonality(n, Table)"
      ],
      "metadata": {
        "id": "Pn3wIQQ0L_OB"
      },
      "execution_count": 75,
      "outputs": []
    },
    {
      "cell_type": "code",
      "source": [
        "# def initializeLambdaTable(n):\n",
        "#   N = (1 << n) - 1 # No. of columns in the lambda possibilities table\n",
        "#   LambdaTable = []\n",
        "#   for row in range((1 << N)):\n",
        "#     LambdaTable.append([])\n",
        "#     for column in range(N):\n",
        "#       LambdaTable[row].append(0)\n",
        "#   for column in range(N):\n",
        "#     bit = 0\n",
        "#     count = 0\n",
        "#     powerOfTwo = (1 << (N - 1 - column))\n",
        "#     for row in range((1 << N)):\n",
        "#       if count >= powerOfTwo:\n",
        "#         count = 0\n",
        "#         if bit == 0:\n",
        "#           bit = 1\n",
        "#         elif bit == 1:\n",
        "#           bit = 0\n",
        "#       LambdaTable[row][column] = bit\n",
        "#       count = count + 1\n",
        "#   DeleteIndexes = []\n",
        "#   for i in range(len(LambdaTable)):\n",
        "#     count = 0\n",
        "#     for j in range(N):\n",
        "#       if LambdaTable[i][j] == 1:\n",
        "#         count = count + 1\n",
        "#     if count > 3:\n",
        "#       DeleteIndexes.append(i)\n",
        "#   DeleteIndexes.reverse()\n",
        "#   for i in range(len(DeleteIndexes)):\n",
        "#     LambdaTable.pop(DeleteIndexes[i])\n",
        "#   printTable(LambdaTable)\n",
        "#   return LambdaTable"
      ],
      "metadata": {
        "id": "1O5NCnxuVO1c"
      },
      "execution_count": 76,
      "outputs": []
    },
    {
      "cell_type": "code",
      "source": [
        "# # Trying the new approach after FYP Meeting\n",
        "# # Power set formula = 2^n where n is items in set (this will be our number of bits so all possile XOR combinartions are 2^n and then -1 cause we don't want empty set)\n",
        "\n",
        "# n = 3 # No. of bits\n",
        "# Table = initializeTable(n)\n",
        "\n",
        "# N = (1 << n) - 1 # No. of columns in the lambda possibilities table\n",
        "# LambdaTable = []\n",
        "\n",
        "# print(N)\n",
        "\n",
        "# for row in range((1 << N)):\n",
        "#   LambdaTable.append([])\n",
        "#   for column in range(N):\n",
        "#     LambdaTable[row].append(0)\n",
        "# for column in range(N):\n",
        "#   bit = 0\n",
        "#   count = 0\n",
        "#   powerOfTwo = (1 << (N - 1 - column))\n",
        "#   for row in range((1 << N)):\n",
        "#     if count >= powerOfTwo:\n",
        "#       count = 0\n",
        "#       if bit == 0:\n",
        "#         bit = 1\n",
        "#       elif bit == 1:\n",
        "#         bit = 0\n",
        "#     LambdaTable[row][column] = bit\n",
        "#     count = count + 1\n",
        "\n",
        "# printTable(LambdaTable)\n",
        "\n",
        "# # Now we delete all lambda table possibilites where more than n number of lambda's are 1... cause of that orthognality-column-number thing Danial said...\n",
        "\n",
        "# DeleteIndexes = []\n",
        "\n",
        "# for i in range(len(LambdaTable)):\n",
        "#   count = 0\n",
        "#   for j in range(N):\n",
        "#     if LambdaTable[i][j] == 1:\n",
        "#       count = count + 1\n",
        "#   if count > 3:\n",
        "#     DeleteIndexes.append(i)\n",
        "\n",
        "# DeleteIndexes.reverse()\n",
        "# for i in range(len(DeleteIndexes)):\n",
        "#   LambdaTable.pop(DeleteIndexes[i])\n",
        "\n",
        "# print('\\n')\n",
        "\n",
        "# printTable(LambdaTable)\n"
      ],
      "metadata": {
        "id": "-gOg5GeEM7Zs"
      },
      "execution_count": 77,
      "outputs": []
    },
    {
      "cell_type": "code",
      "source": [
        "# # Trying the new approach after FYP Meeting\n",
        "# # Power set formula = 2^n where n is items in set (this will be our number of bits so all possile XOR combinartions are 2^n and then -1 cause we don't want empty set)\n",
        "\n",
        "# print(\"Initial Table: \\n\")\n",
        "\n",
        "# n = 3 # No. of bits\n",
        "# Table = initializeTable(n)\n",
        "\n",
        "# printTable(Table)\n",
        "# print(\"\\n\")\n",
        "\n",
        "# print(\"Lambda Table: \\n\")\n",
        "\n",
        "# N = (1 << n) - 1 # No. of columns in the lambda possibilities table\n",
        "# LambdaTable = initializeLambdaTable(n)"
      ],
      "metadata": {
        "id": "2dwJJOAFWvHQ"
      },
      "execution_count": 78,
      "outputs": []
    },
    {
      "cell_type": "markdown",
      "source": [
        "# (Tutorial Stuff Starts Here)"
      ],
      "metadata": {
        "id": "H6jLpl41hp5u"
      }
    },
    {
      "cell_type": "markdown",
      "source": [
        "# The Problem\n",
        "\n",
        "Suppose you have two vectors $\\vec{u}$ and $\\vec{v}$.\n",
        "\n",
        "\\begin{align}\n",
        "\\vec{u} =\n",
        "  \\begin{pmatrix}\n",
        "    u_1 \\\\\n",
        "    u_2\n",
        "  \\end{pmatrix}\n",
        "\\ and \\\n",
        "\\vec{v} =\n",
        "  \\begin{pmatrix}\n",
        "    v_1 \\\\\n",
        "    v_2\n",
        "  \\end{pmatrix},\n",
        "\\end{align}\n",
        "\n",
        "such that $\\vec{u}$ and $\\vec{v}$ are not orthogonal, i.e. $\\vec{u} \\cdot \\vec{v} \\ne 0$.\n",
        "\n",
        "For example,\n",
        "\\begin{align}\n",
        "\\vec{u} =\n",
        "  \\begin{pmatrix}\n",
        "    3 \\\\\n",
        "    2\n",
        "  \\end{pmatrix}\n",
        "\\ and \\\n",
        "\\vec{v} =\n",
        "  \\begin{pmatrix}\n",
        "    4 \\\\\n",
        "    -1\n",
        "  \\end{pmatrix}.\n",
        "\\end{align}\n",
        "\n",
        "and\n",
        "\n",
        "\\begin{align}\n",
        "  \\vec{u} \\cdot \\vec{v} = (3 \\cdot 4) + (2 \\cdot (-1)) = 10 \\ne 0\n",
        "\\end{align}\n",
        "\n",
        "so $\\vec{u}$ and $\\vec{v}$ are not orthogonal.\n"
      ],
      "metadata": {
        "id": "8gosB0cmjfVG"
      }
    },
    {
      "cell_type": "code",
      "source": [
        "import matplotlib.pyplot as plt\n",
        "import numpy as np\n",
        "\n",
        "u = np.array([3, 2])\n",
        "v = np.array([4, -1])\n",
        "\n",
        "plt.figure()\n",
        "plt.quiver(0, 0, u[0], u[1], angles = 'xy', scale_units = 'xy', scale = 1, color = 'r', label = 'u')\n",
        "plt.quiver(0, 0, v[0], v[1], angles = 'xy', scale_units = 'xy', scale = 1, color = 'b', label = 'v')\n",
        "\n",
        "plt.xlim(-4, 5)\n",
        "plt.ylim(-4, 4)\n",
        "# plt.xlim(-1, 5)\n",
        "# plt.ylim(-3, 5)\n",
        "\n",
        "plt.xlabel('X-axis')\n",
        "plt.ylabel('Y-axis')\n",
        "plt.axhline(0, color = 'black',linewidth = 0.5)\n",
        "plt.axvline(0, color = 'black',linewidth = 0.5)\n",
        "plt.grid(color = 'gray', linestyle = '--', linewidth = 0.5)\n",
        "plt.legend()\n",
        "\n",
        "plt.show()"
      ],
      "metadata": {
        "colab": {
          "base_uri": "https://localhost:8080/",
          "height": 455
        },
        "id": "B4yYggXvpUMx",
        "outputId": "f95a76c0-9ed3-4abb-e69b-3d71fad6c137"
      },
      "execution_count": 79,
      "outputs": [
        {
          "output_type": "display_data",
          "data": {
            "text/plain": [
              "<Figure size 640x480 with 1 Axes>"
            ],
            "image/png": "[encoded data removed]"
          },
          "metadata": {}
        }
      ]
    },
    {
      "cell_type": "markdown",
      "source": [
        "How will we find a set of vectors equivalent to $\\vec{u}$ and $\\vec{v}$ that are orthogonal to each other?\n",
        "\n",
        "Recall vector projections.\n",
        "\n",
        "# Vector Projections\n",
        "\n",
        "The projection of a vector is defined as the 'shadow' of one vector over another vector. This basically means the part of the vector that 'falls' on other vectors.\n",
        "\n",
        "The projection of a vector v on the vector u is denoted as:\n",
        "\\begin{align}\n",
        "  proj_{u}(v) = \\frac{\\vec{v} \\cdot \\vec{u}}{\\|\\vec{u}\\|^2} \\cdot \\vec{u}\n",
        "\\end{align}\n",
        "\n",
        "In our example, $proj_{u}(v)$ would be equal to:\n",
        "\n",
        "\\begin{align}\n",
        "  proj_{u}(v) &=\n",
        "    \\frac\n",
        "    {\n",
        "      \\begin{pmatrix} 4 \\\\ -1 \\end{pmatrix}\n",
        "      \\cdot\n",
        "      \\begin{pmatrix} 3 \\\\ 2 \\end{pmatrix}\n",
        "    }\n",
        "    {\n",
        "      \\left\\lVert\n",
        "        \\begin{pmatrix} 3 \\\\ 2 \\end{pmatrix}\n",
        "      \\right\\rVert ^2\n",
        "    }\n",
        "    \\cdot\n",
        "    \\begin{pmatrix} 3 \\\\ 2 \\end{pmatrix}\n",
        "  \\\\\n",
        "  &=\n",
        "  \\frac\n",
        "    {\n",
        "      (4 \\cdot 3) + ((-1) \\cdot 2)\n",
        "    }\n",
        "    {\n",
        "      \\left\\lVert\n",
        "        \\sqrt{(3)^2 + (2)^2}\n",
        "      \\right\\rVert ^2\n",
        "    }\n",
        "    \\cdot\n",
        "    \\begin{pmatrix} 3 \\\\ 2 \\end{pmatrix}\n",
        "  \\\\\n",
        "  &=\n",
        "  \\frac{10}{13}\n",
        "    \\cdot\n",
        "    \\begin{pmatrix} 3 \\\\ 2 \\end{pmatrix}\n",
        "  \\\\\n",
        "  &=\n",
        "  \\begin{pmatrix}\n",
        "    \\frac{30}{13} \\\\ \\frac{20}{13}\n",
        "  \\end{pmatrix}\n",
        "\\end{align}\n",
        "\n",
        "Here, the projection of $\\vec{v}$ on $\\vec{u}$, or $proj_{u}(v)$, would be this:"
      ],
      "metadata": {
        "id": "y4hjCqYur0Pb"
      }
    },
    {
      "cell_type": "code",
      "source": [
        "u = np.array([3, 2])\n",
        "v = np.array([4, -1])\n",
        "projection_uv = (np.dot(u, v) / np.linalg.norm(v) ** 2) * v\n",
        "\n",
        "plt.figure()\n",
        "plt.quiver(0, 0, u[0], u[1], angles = 'xy', scale_units = 'xy', scale = 1, color = 'r', label = 'u')\n",
        "plt.quiver(0, 0, v[0], v[1], angles = 'xy', scale_units = 'xy', scale = 1, color = 'b', label = 'v')\n",
        "plt.quiver(0, 0, projection_uv[0], projection_uv[1], angles = 'xy', scale_units = 'xy', scale = 1, color = 'orange', label = 'proj_u(v)')\n",
        "\n",
        "plt.xlim(-4, 5)\n",
        "plt.ylim(-4, 4)\n",
        "# plt.xlim(-1, 5)\n",
        "# plt.ylim(-3, 5)\n",
        "\n",
        "plt.xlabel('X-axis')\n",
        "plt.ylabel('Y-axis')\n",
        "plt.axhline(0, color = 'black',linewidth = 0.5)\n",
        "plt.axvline(0, color = 'black',linewidth = 0.5)\n",
        "plt.grid(color = 'gray', linestyle = '--', linewidth = 0.5)\n",
        "plt.legend()\n",
        "\n",
        "plt.show()"
      ],
      "metadata": {
        "colab": {
          "base_uri": "https://localhost:8080/",
          "height": 455
        },
        "id": "qjVTxiagvDLU",
        "outputId": "6cad3a57-998c-473e-f811-83fd90e951bf"
      },
      "execution_count": 80,
      "outputs": [
        {
          "output_type": "display_data",
          "data": {
            "text/plain": [
              "<Figure size 640x480 with 1 Axes>"
            ],
            "image/png": "[encoded data removed]"
          },
          "metadata": {}
        }
      ]
    },
    {
      "cell_type": "markdown",
      "source": [
        "Observe the vector $\\vec{v} - proj_u(v)$:\n",
        "\n",
        "\\begin{align}\n",
        "  \\vec{v} - proj_u(v) &=\n",
        "    \\begin{pmatrix} 4 \\\\ -1 \\end{pmatrix}\n",
        "    -\n",
        "    \\begin{pmatrix}\n",
        "      \\frac{30}{13} \\\\ \\frac{20}{13}\n",
        "    \\end{pmatrix}\n",
        "  \\\\\n",
        "  &=\n",
        "  \\begin{pmatrix}\n",
        "      \\frac{22}{13} \\\\ \\frac{-33}{13}\n",
        "    \\end{pmatrix}\n",
        "\\end{align}"
      ],
      "metadata": {
        "id": "sJJC7XbRU0j1"
      }
    },
    {
      "cell_type": "code",
      "source": [
        "u = np.array([3, 2])\n",
        "v = np.array([4, -1])\n",
        "projection_uv = (np.dot(v, u) / np.linalg.norm(u) ** 2) * u\n",
        "v_minus_projection_uv = v - projection_uv\n",
        "\n",
        "plt.figure()\n",
        "plt.quiver(0, 0, u[0], u[1], angles = 'xy', scale_units = 'xy', scale = 1, color = 'r', label = 'u')\n",
        "plt.quiver(0, 0, v[0], v[1], angles = 'xy', scale_units = 'xy', scale = 1, color = 'b', label = 'v')\n",
        "plt.quiver(0, 0, projection_uv[0], projection_uv[1], angles = 'xy', scale_units = 'xy', scale = 1, color = 'orange', label = 'proj_u(v)')\n",
        "# plt.quiver(projection_uv[0], projection_uv[1], v_minus_projection_uv[0], v_minus_projection_uv[1], angles = 'xy', scale_units = 'xy', scale = 1, color = 'orange', label = 'v - proj_v(u)')\n",
        "\n",
        "plt.quiver(0, 0, v_minus_projection_uv[0], v_minus_projection_uv[1], angles = 'xy', scale_units = 'xy', scale = 1, color = 'black', label = 'v - proj_u(v)')\n",
        "\n",
        "plt.plot([0, 0], [0, 0], linestyle = 'dotted', color = 'orange', label = 'v - proj_u(v)')\n",
        "plt.annotate('', xy = (v[0], v[1]), xytext = (projection_uv[0], projection_uv[1]), arrowprops = dict(arrowstyle = '->', linestyle = 'dashed', color = 'orange'))\n",
        "\n",
        "\n",
        "plt.xlim(-4, 5)\n",
        "plt.ylim(-4, 4)\n",
        "# plt.xlim(-1, 5)\n",
        "# plt.ylim(-3, 5)\n",
        "\n",
        "plt.xlabel('X-axis')\n",
        "plt.ylabel('Y-axis')\n",
        "plt.axhline(0, color = 'black',linewidth = 0.5)\n",
        "plt.axvline(0, color = 'black',linewidth = 0.5)\n",
        "plt.grid(color = 'gray', linestyle = '--', linewidth = 0.5)\n",
        "plt.legend()\n",
        "\n",
        "plt.show()"
      ],
      "metadata": {
        "colab": {
          "base_uri": "https://localhost:8080/",
          "height": 455
        },
        "id": "_9go17jkUt-j",
        "outputId": "8e25f385-b840-49b7-c9eb-ea2f2f095ef8"
      },
      "execution_count": 81,
      "outputs": [
        {
          "output_type": "display_data",
          "data": {
            "text/plain": [
              "<Figure size 640x480 with 1 Axes>"
            ],
            "image/png": "[encoded data removed]"
          },
          "metadata": {}
        }
      ]
    },
    {
      "cell_type": "markdown",
      "source": [
        "Let us now determine the angle between $\\vec{u}$ and $\\vec{v} - proj_{u}(v)$ using the formulae for the dot product of $\\vec{u}$ and $\\vec{v} - proj_{u}(v)$:\n",
        "\n",
        "\\begin{align}\n",
        "  \\vec{u} \\cdot (\\vec{v} - proj_{u}(v)) &=\n",
        "    \\|\\vec{u}\\|\\|(\\vec{v} - proj_{u}(v))\\|\\cos(θ)\n",
        "  \\\\\n",
        "  \\begin{pmatrix} 3 \\\\ 2 \\end{pmatrix}\n",
        "  \\cdot\n",
        "  \\begin{pmatrix}\n",
        "    \\frac{22}{13} \\\\ \\frac{-33}{13}\n",
        "  \\end{pmatrix}\n",
        "  &=\n",
        "    \\left\\lVert\n",
        "      \\begin{pmatrix} 3 \\\\ 2 \\end{pmatrix}\n",
        "    \\right\\rVert\n",
        "    \\left\\lVert\n",
        "    \\begin{pmatrix}\n",
        "      \\frac{22}{13} \\\\ \\frac{-33}{13}\n",
        "    \\end{pmatrix}\n",
        "    \\right\\rVert\n",
        "    \\cos(θ)\n",
        "  \\\\\n",
        "  (3 \\cdot \\frac{22}{13})\n",
        "  +\n",
        "  (2 \\cdot \\frac{-33}{13})\n",
        "  &=\n",
        "    \\left\\lVert\n",
        "      \\sqrt{(3)^2 + (2)^2}\n",
        "    \\right\\rVert\n",
        "    \\left\\lVert\n",
        "      \\sqrt{(\\frac{22}{13})^2 + (\\frac{-33}{13})^2}\n",
        "    \\right\\rVert\n",
        "    \\cos(θ)\n",
        "  \\\\\n",
        "  0\n",
        "  &=\n",
        "  (\\sqrt{13})(\\frac{11}{\\sqrt{13}})\\cos(θ)\n",
        "  \\\\\n",
        "  0\n",
        "  &=\n",
        "  \\cos(θ)\n",
        "  \\\\\n",
        "  90\n",
        "  &=\n",
        "  θ\n",
        "\\end{align}\n",
        "\n",
        "Since $\\vec{u} \\cdot (\\vec{v} - proj_{u}(v)) = 0$ and we see that the angle between $\\vec{u}$ and $\\vec{v} - proj_{u}(v)$ is 90, we conclude $\\vec{u}$ and $\\vec{v} - proj_{u}(v)$ are orthogonal to each other."
      ],
      "metadata": {
        "id": "jbhOuzaHuaNI"
      }
    },
    {
      "cell_type": "code",
      "source": [
        "u = np.array([3, 2])\n",
        "v = np.array([4, -1])\n",
        "projection_uv = (np.dot(v, u) / np.linalg.norm(u) ** 2) * u\n",
        "v_minus_projection_uv = v - projection_uv\n",
        "\n",
        "plt.figure()\n",
        "plt.quiver(0, 0, u[0], u[1], angles = 'xy', scale_units = 'xy', scale = 1, color = 'r', label = 'u')\n",
        "# plt.quiver(0, 0, v[0], v[1], angles = 'xy', scale_units = 'xy', scale = 1, color = 'b', label = 'v')\n",
        "# plt.quiver(0, 0, projection_uv[0], projection_uv[1], angles = 'xy', scale_units = 'xy', scale = 1, color = 'orange', label = 'proj_u(v)')\n",
        "# plt.quiver(projection_uv[0], projection_uv[1], v_minus_projection_uv[0], v_minus_projection_uv[1], angles = 'xy', scale_units = 'xy', scale = 1, color = 'orange', label = 'v - proj_v(u)')\n",
        "\n",
        "# plt.quiver(0, 0, v_minus_projection_uv[0], v_minus_projection_uv[1], angles = 'xy', scale_units = 'xy', scale = 1, color = 'black', label = 'v - proj_u(v)')\n",
        "\n",
        "plt.plot([0, 0], [0, 0], linestyle = 'dotted', color = 'orange', label = 'v - proj_u(v)')\n",
        "# plt.annotate('', xy = (v[0], v[1]), xytext = (projection_uv[0], projection_uv[1]), arrowprops = dict(arrowstyle = '->', linestyle = 'dashed', color = 'orange'))\n",
        "plt.annotate('', xy = (v_minus_projection_uv[0], v_minus_projection_uv[1]), xytext = (0, 0), arrowprops = dict(arrowstyle = '->', linestyle = 'dashed', color = 'orange'))\n",
        "\n",
        "plt.xlim(-4, 5)\n",
        "plt.ylim(-4, 4)\n",
        "# plt.xlim(-1, 5)\n",
        "# plt.ylim(-3, 5)\n",
        "\n",
        "plt.xlabel('X-axis')\n",
        "plt.ylabel('Y-axis')\n",
        "plt.axhline(0, color = 'black',linewidth = 0.5)\n",
        "plt.axvline(0, color = 'black',linewidth = 0.5)\n",
        "plt.grid(color = 'gray', linestyle = '--', linewidth = 0.5)\n",
        "plt.legend()\n",
        "\n",
        "plt.show()"
      ],
      "metadata": {
        "colab": {
          "base_uri": "https://localhost:8080/",
          "height": 455
        },
        "id": "a-rpK3Gu_lov",
        "outputId": "e78fd34c-6940-4cc7-bf64-7635663ad375"
      },
      "execution_count": 82,
      "outputs": [
        {
          "output_type": "display_data",
          "data": {
            "text/plain": [
              "<Figure size 640x480 with 1 Axes>"
            ],
            "image/png": "[encoded data removed]"
          },
          "metadata": {}
        }
      ]
    },
    {
      "cell_type": "markdown",
      "source": [
        "# NOTE-TO-SELF: Add the v - v_u part explanation here"
      ],
      "metadata": {
        "id": "MLhhjG1UT289"
      }
    },
    {
      "cell_type": "markdown",
      "source": [
        "Now let's suppose you have a set of three vectors $\\vec{u}$, $\\vec{v}$ and $\\vec{w}$ such that $\\vec{u}$, $\\vec{v}$ and $\\vec{w}$ are not orthogonal to each other:\n",
        "\n",
        "\\begin{align}\n",
        "  \\vec{u} = \\begin{pmatrix} 3 \\\\ 2 \\end{pmatrix},\n",
        "  \\vec{v} = \\begin{pmatrix} 4 \\\\ -1 \\end{pmatrix},\n",
        "  \\vec{w} = \\begin{pmatrix} 2 \\\\ 3 \\end{pmatrix}\n",
        "\\end{align}\n",
        "\n",
        "and\n",
        "\n",
        "\\begin{align}\n",
        "  \\vec{u} \\cdot \\vec{v} \\ne 0 \\quad or \\quad \\vec{u} \\cdot \\vec{w} \\ne 0 \\quad or \\quad \\vec{v} \\cdot \\vec{w} \\ne 0\n",
        "\\end{align}"
      ],
      "metadata": {
        "id": "iC6pFDXCMre_"
      }
    },
    {
      "cell_type": "code",
      "source": [
        "u = np.array([3, 2])\n",
        "v = np.array([4, -1])\n",
        "w = np.array([2, 3])\n",
        "\n",
        "plt.figure()\n",
        "plt.quiver(0, 0, u[0], u[1], angles = 'xy', scale_units = 'xy', scale = 1, color = 'r', label = 'u')\n",
        "plt.quiver(0, 0, v[0], v[1], angles = 'xy', scale_units = 'xy', scale = 1, color = 'b', label = 'v')\n",
        "plt.quiver(0, 0, w[0], w[1], angles = 'xy', scale_units = 'xy', scale = 1, color = 'g', label = 'w')\n",
        "\n",
        "plt.xlim(-4, 5)\n",
        "plt.ylim(-4, 4)\n",
        "# plt.xlim(-1, 5)\n",
        "# plt.ylim(-3, 5)\n",
        "\n",
        "plt.xlabel('X-axis')\n",
        "plt.ylabel('Y-axis')\n",
        "plt.axhline(0, color = 'black',linewidth = 0.5)\n",
        "plt.axvline(0, color = 'black',linewidth = 0.5)\n",
        "plt.grid(color = 'gray', linestyle = '--', linewidth = 0.5)\n",
        "plt.legend()\n",
        "\n",
        "plt.show()"
      ],
      "metadata": {
        "colab": {
          "base_uri": "https://localhost:8080/",
          "height": 455
        },
        "id": "k9aIjO6zPtyM",
        "outputId": "ca7ccb76-f4ce-470e-9587-3794fb0bae4f"
      },
      "execution_count": 83,
      "outputs": [
        {
          "output_type": "display_data",
          "data": {
            "text/plain": [
              "<Figure size 640x480 with 1 Axes>"
            ],
            "image/png": "[encoded data removed]"
          },
          "metadata": {}
        }
      ]
    },
    {
      "cell_type": "markdown",
      "source": [
        "We have already found $proj_{v}(u)$ and $\\vec{u} - proj_{v}(u)$ in our previous example:\n",
        "\n",
        "\\begin{align}\n",
        "  proj_{u}(v)\n",
        "  = \\frac{\\vec{v} \\cdot \\vec{u}}{\\|\\vec{u}\\|^2} \\cdot \\vec{u}\n",
        "  =\n",
        "    \\frac\n",
        "    {\n",
        "      \\begin{pmatrix} 4 \\\\ -1 \\end{pmatrix}\n",
        "      \\cdot\n",
        "      \\begin{pmatrix} 3 \\\\ 2 \\end{pmatrix}\n",
        "    }\n",
        "    {\n",
        "      \\left\\lVert\n",
        "        \\begin{pmatrix} 3 \\\\ 2 \\end{pmatrix}\n",
        "      \\right\\rVert ^2\n",
        "    }\n",
        "    \\cdot\n",
        "    \\begin{pmatrix} 3 \\\\ 2 \\end{pmatrix}\n",
        "  =\n",
        "    \\begin{pmatrix}\n",
        "      \\frac{30}{13} \\\\ \\frac{20}{13}\n",
        "    \\end{pmatrix}\n",
        "\\end{align}\n",
        "\n",
        "\\begin{align}\n",
        "  \\vec{v} - proj_u(v)\n",
        "  =\n",
        "    \\begin{pmatrix} 4 \\\\ -1 \\end{pmatrix}\n",
        "    -\n",
        "    \\begin{pmatrix}\n",
        "      \\frac{30}{13} \\\\ \\frac{20}{13}\n",
        "    \\end{pmatrix}\n",
        "  =\n",
        "  \\begin{pmatrix}\n",
        "      \\frac{22}{13} \\\\ \\frac{-33}{13}\n",
        "    \\end{pmatrix}\n",
        "\\end{align}"
      ],
      "metadata": {
        "id": "MCZH9aP3TqTd"
      }
    },
    {
      "cell_type": "markdown",
      "source": [
        "And we have already established that $\\vec{u}$ and $\\vec{v} - proj_{u}(v)$ are orthogonal to each other:"
      ],
      "metadata": {
        "id": "vi3yyyffS4Zd"
      }
    },
    {
      "cell_type": "code",
      "source": [
        "u = np.array([3, 2])\n",
        "v = np.array([4, -1])\n",
        "w = np.array([2, 3])\n",
        "projection_uv = (np.dot(v, u) / np.linalg.norm(u) ** 2) * u\n",
        "v_minus_projection_uv = v - projection_uv\n",
        "\n",
        "plt.figure()\n",
        "plt.quiver(0, 0, u[0], u[1], angles = 'xy', scale_units = 'xy', scale = 1, color = 'r', label = 'u')\n",
        "# plt.quiver(0, 0, v[0], v[1], angles = 'xy', scale_units = 'xy', scale = 1, color = 'b', label = 'v')\n",
        "plt.quiver(0, 0, w[0], w[1], angles = 'xy', scale_units = 'xy', scale = 1, color = 'g', label = 'w')\n",
        "# plt.quiver(0, 0, projection_uv[0], projection_uv[1], angles = 'xy', scale_units = 'xy', scale = 1, color = 'orange', label = 'proj_u(v)')\n",
        "# plt.plot([0, 0], [0, 0], linestyle = 'dotted', color = 'orange', label = 'u - proj_v(u)')\n",
        "# plt.annotate('', xy = (u[0], u[1]), xytext = (projection[0], projection[1]), arrowprops = dict(arrowstyle = '->', linestyle = 'dashed', color = 'orange'))\n",
        "plt.plot([0, 0], [0, 0], linestyle = 'dotted', color = 'orange', label = 'v - proj_u(v)')\n",
        "# plt.annotate('', xy = (v[0], v[1]), xytext = (projection_uv[0], projection_uv[1]), arrowprops = dict(arrowstyle = '->', linestyle = 'dashed', color = 'orange'))\n",
        "plt.annotate('', xy = (v_minus_projection_uv[0], v_minus_projection_uv[1]), xytext = (0, 0), arrowprops = dict(arrowstyle = '->', linestyle = 'dashed', color = 'orange'))\n",
        "\n",
        "plt.xlim(-4, 5)\n",
        "plt.ylim(-4, 4)\n",
        "# plt.xlim(-1, 5)\n",
        "# plt.ylim(-3, 5)\n",
        "\n",
        "plt.xlabel('X-axis')\n",
        "plt.ylabel('Y-axis')\n",
        "plt.axhline(0, color = 'black',linewidth = 0.5)\n",
        "plt.axvline(0, color = 'black',linewidth = 0.5)\n",
        "plt.grid(color = 'gray', linestyle = '--', linewidth = 0.5)\n",
        "plt.legend()\n",
        "\n",
        "plt.show()"
      ],
      "metadata": {
        "colab": {
          "base_uri": "https://localhost:8080/",
          "height": 455
        },
        "id": "SKfUK-toS96z",
        "outputId": "fcadbd91-f4b6-4571-8111-b2137ce979e1"
      },
      "execution_count": 84,
      "outputs": [
        {
          "output_type": "display_data",
          "data": {
            "text/plain": [
              "<Figure size 640x480 with 1 Axes>"
            ],
            "image/png": "[encoded data removed]"
          },
          "metadata": {}
        }
      ]
    },
    {
      "cell_type": "markdown",
      "source": [
        "We now need to find a vector that is orthogonal to both $\\vec{u}$ and $\\vec{v} - proj_{u}(v)$, and $\\vec{w}$.\n",
        "\n",
        "Let us begin by calculating $proj_{u}(w)$ and $\\vec{w} - proj_{u}(w)$ as before:\n",
        "\n",
        "\\begin{align}\n",
        "  proj_{u}(w)\n",
        "  = \\frac{\\vec{w} \\cdot \\vec{u}}{\\|\\vec{u}\\|^2} \\cdot \\vec{u}\n",
        "  =\n",
        "    \\frac\n",
        "    {\n",
        "      \\begin{pmatrix} 2 \\\\ 3 \\end{pmatrix}\n",
        "      \\cdot\n",
        "      \\begin{pmatrix} 3 \\\\ 2 \\end{pmatrix}\n",
        "    }\n",
        "    {\n",
        "      \\left\\lVert\n",
        "        \\begin{pmatrix} 3 \\\\ 2 \\end{pmatrix}\n",
        "      \\right\\rVert ^2\n",
        "    }\n",
        "    \\cdot\n",
        "    \\begin{pmatrix} 3 \\\\ 2 \\end{pmatrix}\n",
        "  =\n",
        "    \\begin{pmatrix}\n",
        "      \\frac{36}{13} \\\\ \\frac{24}{13}\n",
        "    \\end{pmatrix}\n",
        "\\end{align}\n",
        "\n",
        "\\begin{align}\n",
        "  \\vec{w} - proj_u(w)\n",
        "  =\n",
        "    \\begin{pmatrix} 2 \\\\ 3 \\end{pmatrix}\n",
        "    -\n",
        "    \\begin{pmatrix}\n",
        "      \\frac{36}{13} \\\\ \\frac{24}{13}\n",
        "    \\end{pmatrix}\n",
        "  =\n",
        "  \\begin{pmatrix}\n",
        "      \\frac{-10}{13} \\\\ \\frac{15}{13}\n",
        "    \\end{pmatrix}\n",
        "\\end{align}"
      ],
      "metadata": {
        "id": "jYYSs8k8ton6"
      }
    },
    {
      "cell_type": "code",
      "source": [
        "u = np.array([3, 2])\n",
        "v = np.array([4, -1])\n",
        "w = np.array([2, 3])\n",
        "projection_uv = (np.dot(v, u) / np.linalg.norm(u) ** 2) * u\n",
        "v_minus_projection_uv = v - projection_uv\n",
        "projection_uw = (np.dot(w, u) / np.linalg.norm(u) ** 2) * u\n",
        "w_minus_projection_uw = w - projection_uw\n",
        "\n",
        "plt.figure()\n",
        "plt.quiver(0, 0, u[0], u[1], angles = 'xy', scale_units = 'xy', scale = 1, color = 'r', label = 'u')\n",
        "# plt.quiver(0, 0, v[0], v[1], angles = 'xy', scale_units = 'xy', scale = 1, color = 'b', label = 'v')\n",
        "plt.quiver(0, 0, w[0], w[1], angles = 'xy', scale_units = 'xy', scale = 1, color = 'g', label = 'w')\n",
        "# plt.quiver(0, 0, projection_uv[0], projection_uv[1], angles = 'xy', scale_units = 'xy', scale = 1, color = 'orange', label = 'proj_u(v)')\n",
        "# plt.plot([0, 0], [0, 0], linestyle = 'dotted', color = 'orange', label = 'u - proj_v(u)')\n",
        "# plt.annotate('', xy = (u[0], u[1]), xytext = (projection[0], projection[1]), arrowprops = dict(arrowstyle = '->', linestyle = 'dashed', color = 'orange'))\n",
        "plt.plot([0, 0], [0, 0], linestyle = 'dotted', color = 'orange', label = 'v - proj_u(v)')\n",
        "# plt.annotate('', xy = (v[0], v[1]), xytext = (projection_uv[0], projection_uv[1]), arrowprops = dict(arrowstyle = '->', linestyle = 'dashed', color = 'orange'))\n",
        "plt.annotate('', xy = (v_minus_projection_uv[0], v_minus_projection_uv[1]), xytext = (0, 0), arrowprops = dict(arrowstyle = '->', linestyle = 'dashed', color = 'orange'))\n",
        "\n",
        "plt.quiver(0, 0, projection_uw[0], projection_uw[1], angles = 'xy', scale_units = 'xy', scale = 1, color = '#29E546', label = 'proj_u(w)')\n",
        "plt.quiver(0, 0, w_minus_projection_uw[0], w_minus_projection_uw[1], angles = 'xy', scale_units = 'xy', scale = 1, color = 'black', label = 'w - proj_u(w)')\n",
        "plt.plot([0, 0], [0, 0], linestyle = 'dotted', color = '#29E546', label = 'w - proj_u(w)')\n",
        "plt.annotate('', xy = (w[0], w[1]), xytext = (projection_uw[0], projection_uw[1]), arrowprops = dict(arrowstyle = '->', linestyle = 'dashed', color = '#29E546'))\n",
        "\n",
        "plt.xlim(-4, 5)\n",
        "plt.ylim(-4, 4)\n",
        "# plt.xlim(-1, 5)\n",
        "# plt.ylim(-3, 5)\n",
        "\n",
        "plt.xlabel('X-axis')\n",
        "plt.ylabel('Y-axis')\n",
        "plt.axhline(0, color = 'black',linewidth = 0.5)\n",
        "plt.axvline(0, color = 'black',linewidth = 0.5)\n",
        "plt.grid(color = 'gray', linestyle = '--', linewidth = 0.5)\n",
        "plt.legend()\n",
        "\n",
        "plt.show()"
      ],
      "metadata": {
        "colab": {
          "base_uri": "https://localhost:8080/",
          "height": 455
        },
        "id": "y7abPd1vZs4J",
        "outputId": "9436cd64-d295-4d65-8272-63cfa47acede"
      },
      "execution_count": 85,
      "outputs": [
        {
          "output_type": "display_data",
          "data": {
            "text/plain": [
              "<Figure size 640x480 with 1 Axes>"
            ],
            "image/png": "[encoded data removed]"
          },
          "metadata": {}
        }
      ]
    },
    {
      "cell_type": "markdown",
      "source": [
        "Given our previous calculations, we know that $\\vec{w} - proj_u(w)$ will be orthogonal to $\\vec{u}$, but it is still not orthogonal to $\\vec{v} - proj_{u}(v)$.\n",
        "\n",
        "So, we calculate the projection of $\\vec{w}$ on $\\vec{v} - proj_{u}(v)$:\n",
        "\n",
        "\\begin{align}\n",
        "  proj_{\\vec{v} - proj_{u}(v)}(w)\n",
        "  = \\frac\n",
        "  { \\vec{w} \\cdot (\\vec{v} - proj_{u}(v))}\n",
        "  { \\| \\vec{v} - proj_{u}(v) \\| ^2}\n",
        "  \\cdot\n",
        "  (\\vec{v} - proj_{u}(v))\n",
        "  =\n",
        "    \\frac\n",
        "    {\n",
        "      \\begin{pmatrix} 2 \\\\ 3 \\end{pmatrix}\n",
        "      \\cdot\n",
        "      \\begin{pmatrix}\n",
        "        \\frac{22}{13} \\\\ \\frac{-33}{13}\n",
        "      \\end{pmatrix}\n",
        "    }\n",
        "    {\n",
        "      \\left\\lVert\n",
        "        \\begin{pmatrix}\n",
        "          \\frac{22}{13} \\\\ \\frac{-33}{13}\n",
        "        \\end{pmatrix}\n",
        "      \\right\\rVert ^2\n",
        "    }\n",
        "    \\cdot\n",
        "    \\begin{pmatrix}\n",
        "      \\frac{22}{13} \\\\ \\frac{-33}{13}\n",
        "    \\end{pmatrix}\n",
        "  =\n",
        "    \\begin{pmatrix}\n",
        "      \\frac{-10}{13} \\\\ \\frac{15}{13}\n",
        "    \\end{pmatrix}\n",
        "\\end{align}\n",
        "\n",
        "\n",
        "\\begin{align}\n",
        "  \\vec{w} - proj_{u}(w) - proj_{\\vec{v} - proj_{u}(v)}(w)\n",
        "  =\n",
        "\\end{align}\n",
        "\n",
        "u1 = u,\n",
        "\n",
        "u2 = v - proj_u(v),\n",
        "\n",
        "u3 = w - proj_u(w) - proj_(v - proj_u(v))(w)"
      ],
      "metadata": {
        "id": "h5mLYfiZZrVE"
      }
    },
    {
      "cell_type": "code",
      "source": [
        "u = np.array([3, 2])\n",
        "v = np.array([4, -1])\n",
        "w = np.array([2, 3])\n",
        "projection_uv = (np.dot(v, u) / np.linalg.norm(u) ** 2) * u\n",
        "v_minus_projection_uv = v - projection_uv\n",
        "projection_uw = (np.dot(w, u) / np.linalg.norm(u) ** 2) * u\n",
        "w_minus_projection_uw = w - projection_uw\n",
        "projection_projection_uv_w = (np.dot(w, projection_uv) / np.linalg.norm(projection_uv) ** 2) * projection_uv\n",
        "\n",
        "plt.figure()\n",
        "plt.quiver(0, 0, u[0], u[1], angles = 'xy', scale_units = 'xy', scale = 1, color = 'r', label = 'u')\n",
        "plt.quiver(0, 0, w[0], w[1], angles = 'xy', scale_units = 'xy', scale = 1, color = 'g', label = 'w')\n",
        "plt.plot([0, 0], [0, 0], linestyle = 'dotted', color = 'orange', label = 'v - proj_u(v)')\n",
        "plt.annotate('', xy = (v_minus_projection_uv[0], v_minus_projection_uv[1]), xytext = (0, 0), arrowprops = dict(arrowstyle = '->', linestyle = 'dashed', color = 'orange'))\n",
        "\n",
        "\n",
        "plt.quiver(0, 0, projection_uw[0], projection_uw[1], angles = 'xy', scale_units = 'xy', scale = 1, color = '#29E546', label = 'proj_u(w)')\n",
        "# plt.quiver(0, 0, w_minus_projection_uw[0], w_minus_projection_uw[1], angles = 'xy', scale_units = 'xy', scale = 1, color = 'black', label = 'w - proj_u(w)')\n",
        "plt.plot([0, 0], [0, 0], linestyle = 'dotted', color = '#29E546', label = 'w - proj_u(w)')\n",
        "plt.annotate('', xy = (w[0], w[1]), xytext = (projection_uw[0], projection_uw[1]), arrowprops = dict(arrowstyle = '->', linestyle = 'dashed', color = '#29E546'))\n",
        "plt.annotate('', xy = (projection_projection_uv_w[0], projection_projection_uv_w[1]), xytext = (0, 0), arrowprops = dict(arrowstyle = '->', linestyle = 'dashed', color = '#29E546'))\n",
        "\n",
        "\n",
        "plt.quiver(0, 0, projection_projection_uv_w[0], projection_projection_uv_w[1], angles = 'xy', scale_units = 'xy', scale = 1, color = 'yellow', label = 'proj_proj_u(v)(w)')\n",
        "# plt.annotate('', xy = (w[0], w[1]), xytext = (projection_projection_uv_w[0], projection_projection_uv_w[1]), arrowprops = dict(arrowstyle = '->', linestyle = 'dashed', color = 'yellow'))\n",
        "\n",
        "plt.xlim(-4, 5)\n",
        "plt.ylim(-4, 4)\n",
        "# plt.xlim(-1, 5)\n",
        "# plt.ylim(-3, 5)\n",
        "\n",
        "plt.xlabel('X-axis')\n",
        "plt.ylabel('Y-axis')\n",
        "plt.axhline(0, color = 'black',linewidth = 0.5)\n",
        "plt.axvline(0, color = 'black',linewidth = 0.5)\n",
        "plt.grid(color = 'gray', linestyle = '--', linewidth = 0.5)\n",
        "plt.legend()\n",
        "\n",
        "plt.show()"
      ],
      "metadata": {
        "colab": {
          "base_uri": "https://localhost:8080/",
          "height": 455
        },
        "id": "sczjnbNTv8Vw",
        "outputId": "2e1d1f8f-6842-401f-95a7-caa6222d5b1f"
      },
      "execution_count": 86,
      "outputs": [
        {
          "output_type": "display_data",
          "data": {
            "text/plain": [
              "<Figure size 640x480 with 1 Axes>"
            ],
            "image/png": "[encoded data removed]"
          },
          "metadata": {}
        }
      ]
    },
    {
      "cell_type": "markdown",
      "source": [
        "# Gram-Schmidt Algorithm\n",
        "\n",
        "Given a set of vectors, output an equivalent set of vectors which are orthogonal to each other."
      ],
      "metadata": {
        "id": "FayPDwW-ikkH"
      }
    }
  ]
}