{
  "nbformat": 4,
  "nbformat_minor": 0,
  "metadata": {
    "colab": {
      "provenance": []
    },
    "kernelspec": {
      "name": "python3",
      "display_name": "Python 3"
    },
    "language_info": {
      "name": "python"
    }
  },
  "cells": [
    {
      "cell_type": "markdown",
      "source": [
        "### Imports"
      ],
      "metadata": {
        "id": "lr1eak9_cv32"
      }
    },
    {
      "cell_type": "code",
      "source": [
        "import numpy as np"
      ],
      "metadata": {
        "id": "K_twk-rxct8l"
      },
      "execution_count": null,
      "outputs": []
    },
    {
      "cell_type": "markdown",
      "source": [
        "### Install Cirq"
      ],
      "metadata": {
        "id": "-hFm3s5sJcrB"
      }
    },
    {
      "cell_type": "code",
      "execution_count": null,
      "metadata": {
        "id": "iFmC_etXDJ2T"
      },
      "outputs": [],
      "source": [
        "try:\n",
        "  import cirq\n",
        "except ImportError:\n",
        "  print(\"Installing Cirq...\")\n",
        "  !pip install --quiet cirq\n",
        "  import cirq\n",
        "\n",
        "  print(\"Cirq is now installed.\")"
      ]
    },
    {
      "cell_type": "markdown",
      "source": [
        "### Helper Functions"
      ],
      "metadata": {
        "id": "H_TZFw_Hay50"
      }
    },
    {
      "cell_type": "code",
      "source": [
        "def norm(vector):\n",
        "  return np.linalg.norm(vector, 2)\n",
        "\n",
        "def frobenius_norm(matrix):\n",
        "  return np.linalg.norm(matrix, 'fro')\n",
        "\n",
        "def ket(i, m):\n",
        "  ket = []\n",
        "  for j in range(m):\n",
        "    if j == i:\n",
        "      ket.append(1)\n",
        "    else:\n",
        "      ket.append(0)\n",
        "  return ket"
      ],
      "metadata": {
        "id": "HXTSG8Y9YfZZ"
      },
      "execution_count": null,
      "outputs": []
    },
    {
      "cell_type": "markdown",
      "source": [
        "### $R_i$ Gate"
      ],
      "metadata": {
        "id": "HguW-zQcbjN8"
      }
    },
    {
      "cell_type": "code",
      "source": [
        "class R(cirq.Gate):\n",
        "  def __init__(self, i, t):\n",
        "    super(R, self)\n",
        "    self.i = i\n",
        "    self.t = t\n",
        "\n",
        "  def _num_qubits_(self):\n",
        "    d = len(t)\n",
        "    return ceil(log2(d))\n",
        "\n",
        "  def _unitary_(self):\n",
        "    t_i = [self.t[self.i]]\n",
        "    I = np.eye(len(t_i))\n",
        "    return I - (2 * np.outer(t_i, t_i))\n",
        "\n",
        "  def _circuit_diagram_info_(self, args):\n",
        "    return f\"R{self.i}\""
      ],
      "metadata": {
        "id": "rz9VxKuWaJBQ"
      },
      "execution_count": null,
      "outputs": []
    },
    {
      "cell_type": "markdown",
      "source": [
        "### Input"
      ],
      "metadata": {
        "id": "PhoNcR9UQ1Tn"
      }
    },
    {
      "cell_type": "code",
      "source": [
        "zero_state = [1, 0]\n",
        "plus_state = [2**(-0.5), 2**(-0.5)]\n",
        "\n",
        "A = [zero_state, plus_state]\n",
        "print(f\"A = {A}\")\n",
        "\n",
        "print()\n",
        "\n",
        "m = len(zero_state)\n",
        "d = len(A)\n",
        "\n",
        "print(f\"m = {m}\")\n",
        "print(f\"d = {d}\")\n",
        "\n",
        "print()\n",
        "\n",
        "A_F = frobenius_norm(A)\n",
        "print(f\"|A|_F = {A_F}\")\n"
      ],
      "metadata": {
        "id": "PUFosP9oQ2jT",
        "colab": {
          "base_uri": "https://localhost:8080/"
        },
        "outputId": "8e1f33aa-2047-4901-dcdb-79ed3244dcb5"
      },
      "execution_count": null,
      "outputs": [
        {
          "output_type": "stream",
          "name": "stdout",
          "text": [
            "A = [[1, 0], [0.7071067811865476, 0.7071067811865476]]\n",
            "\n",
            "m = 2\n",
            "d = 2\n",
            "\n",
            "|A|_F = 1.4142135623730951\n"
          ]
        }
      ]
    },
    {
      "cell_type": "markdown",
      "source": [
        "### $V_A$"
      ],
      "metadata": {
        "id": "7dy5m99cej1c"
      }
    },
    {
      "cell_type": "code",
      "source": [
        "V_A = []\n",
        "\n",
        "# Resize it to the correct shape and fill with 0s.\n",
        "for i in range(m):\n",
        "  V_A.append(0)\n",
        "\n",
        "for i in range(m):\n",
        "  print(f\"A_{i} = {A[i]}\")\n",
        "\n",
        "  A_i = norm(A[i])\n",
        "  print(f\"|A_{i}| = {A_i}\")\n",
        "\n",
        "  ket_i = ket(i, m)\n",
        "  print(f\"|{i}〉= {ket_i}\")\n",
        "\n",
        "  # The amplitude (or coefficient) of each ket is the ratio between |A_i| and |A|_F.\n",
        "  # This is to renormalise each vector, ensuring unit length.\n",
        "  amplitude = A_i / A_F\n",
        "  print(f\"|A_i|/|A|_F = {amplitude}\")\n",
        "\n",
        "  for j in range(m):\n",
        "    ket_i[j] *= amplitude\n",
        "  print(f\"(|A_{i}|/|A|_F)|{i}〉= {ket_i}\")\n",
        "\n",
        "  print()\n",
        "\n",
        "  for j in range(m):\n",
        "    V_A[j] += ket_i[j]\n",
        "\n",
        "print(f\"V_A = {V_A}\")"
      ],
      "metadata": {
        "colab": {
          "base_uri": "https://localhost:8080/"
        },
        "id": "Sef6kLE7d6nJ",
        "outputId": "b3769221-d9fb-4ee2-fa28-7633210c5f5d"
      },
      "execution_count": null,
      "outputs": [
        {
          "output_type": "stream",
          "name": "stdout",
          "text": [
            "A_0 = [1, 0]\n",
            "|A_0| = 1.0\n",
            "|0〉= [1, 0]\n",
            "|A_i|/|A|_F = 0.7071067811865475\n",
            "(|A_0|/|A|_F)|0〉= [0.7071067811865475, 0.0]\n",
            "\n",
            "A_1 = [0.7071067811865476, 0.7071067811865476]\n",
            "|A_1| = 1.0\n",
            "|1〉= [0, 1]\n",
            "|A_i|/|A|_F = 0.7071067811865475\n",
            "(|A_1|/|A|_F)|1〉= [0.0, 0.7071067811865475]\n",
            "\n",
            "V_A = [0.7071067811865475, 0.7071067811865475]\n"
          ]
        }
      ]
    },
    {
      "cell_type": "markdown",
      "source": [
        "### $U_A$"
      ],
      "metadata": {
        "id": "FepCgAGEeqc4"
      }
    },
    {
      "cell_type": "code",
      "source": [
        "for i in range(m):\n",
        "  U_A = []\n",
        "  for q in range(m * d):\n",
        "    U_A.append(0)\n",
        "  print(\"U_A for i = \", i, \" (initially): \", U_A)\n",
        "  ket_i = []\n",
        "  for x in range(m):\n",
        "    if x == i:\n",
        "      ket_i.append(1)\n",
        "    else:\n",
        "      ket_i.append(0)\n",
        "  for j in range(d):\n",
        "    print(\"A_\", i, \": \", A[i])\n",
        "    # print(\"Goooglooo\")🤺\n",
        "    print(\"A_\", i, j, \": \", A[i][j])\n",
        "    print(\"|\", i, \"〉: \", ket_i)\n",
        "    ket_j = []\n",
        "    for k in range(d):\n",
        "      if k == j:\n",
        "        ket_j.append(1)\n",
        "      else:\n",
        "        ket_j.append(0)\n",
        "    print(\"|\", j, \"〉: \", ket_j)\n",
        "    A_i = norm(A[i])\n",
        "    print(\"|| A_\", i, \" ||: \", A_i)\n",
        "    A_ij_divided_by_A_i = A[i][j]/A_i\n",
        "    print(\"A_\", i, j, \" / || A_\", i, \" ||: \", A[i][j], \"/\", A_i, \" = \", A_ij_divided_by_A_i)\n",
        "    # Tensor ka function banana🍌 hoga\n",
        "    ket_i_tensor_ket_j = []\n",
        "    for l in range(m):\n",
        "      for n in range(d):\n",
        "        ket_i_tensor_ket_j.append(ket_i[l] * ket_j[n])\n",
        "    print(\"|\", i, \"〉|\", j, \"〉: \", ket_i_tensor_ket_j)\n",
        "    for p in range(m * d):\n",
        "      ket_i_tensor_ket_j[p] = A_ij_divided_by_A_i * ket_i_tensor_ket_j[p]\n",
        "    print(\"(A_\", i, j, \" / || A_\", i, \" ||)*|\", i, \"〉|\", j, \"〉: (\", A[i][j], \"/\", A_i, \")*(|\", i, \"〉|\", j, \"〉) = \", ket_i_tensor_ket_j, \"\\n\")\n",
        "    for r in range(m * d):\n",
        "      U_A[r] = U_A[r] + ket_i_tensor_ket_j[r]\n",
        "  print(\"U_A for i = \", i, \": \", U_A, \"\\n\")"
      ],
      "metadata": {
        "id": "19BBd1WRepQX",
        "colab": {
          "base_uri": "https://localhost:8080/"
        },
        "outputId": "ca6bd875-0612-4517-a6a0-86f5e266ccfb"
      },
      "execution_count": null,
      "outputs": [
        {
          "output_type": "stream",
          "name": "stdout",
          "text": [
            "U_A for i =  0  (initially):  [0, 0, 0, 0]\n",
            "A_ 0 :  [1, 0]\n",
            "A_ 0 0 :  1\n",
            "| 0 〉:  [1, 0]\n",
            "| 0 〉:  [1, 0]\n",
            "|| A_ 0  ||:  1.0\n",
            "A_ 0 0  / || A_ 0  ||:  1 / 1.0  =  1.0\n",
            "| 0 〉| 0 〉:  [1, 0, 0, 0]\n",
            "(A_ 0 0  / || A_ 0  ||)*| 0 〉| 0 〉: ( 1 / 1.0 )*(| 0 〉| 0 〉) =  [1.0, 0.0, 0.0, 0.0] \n",
            "\n",
            "A_ 0 :  [1, 0]\n",
            "A_ 0 1 :  0\n",
            "| 0 〉:  [1, 0]\n",
            "| 1 〉:  [0, 1]\n",
            "|| A_ 0  ||:  1.0\n",
            "A_ 0 1  / || A_ 0  ||:  0 / 1.0  =  0.0\n",
            "| 0 〉| 1 〉:  [0, 1, 0, 0]\n",
            "(A_ 0 1  / || A_ 0  ||)*| 0 〉| 1 〉: ( 0 / 1.0 )*(| 0 〉| 1 〉) =  [0.0, 0.0, 0.0, 0.0] \n",
            "\n",
            "U_A for i =  0 :  [1.0, 0.0, 0.0, 0.0] \n",
            "\n",
            "U_A for i =  1  (initially):  [0, 0, 0, 0]\n",
            "A_ 1 :  [0.7071067811865476, 0.7071067811865476]\n",
            "A_ 1 0 :  0.7071067811865476\n",
            "| 1 〉:  [0, 1]\n",
            "| 0 〉:  [1, 0]\n",
            "|| A_ 1  ||:  1.0\n",
            "A_ 1 0  / || A_ 1  ||:  0.7071067811865476 / 1.0  =  0.7071067811865476\n",
            "| 1 〉| 0 〉:  [0, 0, 1, 0]\n",
            "(A_ 1 0  / || A_ 1  ||)*| 1 〉| 0 〉: ( 0.7071067811865476 / 1.0 )*(| 1 〉| 0 〉) =  [0.0, 0.0, 0.7071067811865476, 0.0] \n",
            "\n",
            "A_ 1 :  [0.7071067811865476, 0.7071067811865476]\n",
            "A_ 1 1 :  0.7071067811865476\n",
            "| 1 〉:  [0, 1]\n",
            "| 1 〉:  [0, 1]\n",
            "|| A_ 1  ||:  1.0\n",
            "A_ 1 1  / || A_ 1  ||:  0.7071067811865476 / 1.0  =  0.7071067811865476\n",
            "| 1 〉| 1 〉:  [0, 0, 0, 1]\n",
            "(A_ 1 1  / || A_ 1  ||)*| 1 〉| 1 〉: ( 0.7071067811865476 / 1.0 )*(| 1 〉| 1 〉) =  [0.0, 0.0, 0.0, 0.7071067811865476] \n",
            "\n",
            "U_A for i =  1 :  [0.0, 0.0, 0.7071067811865476, 0.7071067811865476] \n",
            "\n"
          ]
        }
      ]
    },
    {
      "cell_type": "code",
      "source": [
        "# Determinants of n x n matrices using numpy\n",
        "A = [[1, 2, 3],\n",
        "     [4, 5, 6],\n",
        "     [7, 8, 9]]\n",
        "determinant_A = np.linalg.det(A)\n",
        "print(A)\n",
        "print(determinant_A)\n",
        "\n",
        "B = [[1, 0, 4, -6],\n",
        "    [2, 5, 0, 3],\n",
        "    [2, 0, 8, -12],\n",
        "    [2, 1, -2, 3]]\n",
        "determinant_B = np.linalg.det(B)\n",
        "print(B)\n",
        "print(determinant_B)\n",
        "\n",
        "C = [[1, 1, -1],\n",
        "     [1, 2, 2],\n",
        "     [0, 3, 4]]\n",
        "determinant_C = np.linalg.det(C)\n",
        "print(C)\n",
        "print(determinant_C)\n",
        "\n",
        "\n",
        "X = [[0.5, 0.5, 0.5, 0.5],\n",
        "     [0.5, -0.5, 0.5, 0.5],\n",
        "     [0.5, 0.5, -0.5, 0.5],\n",
        "     [0.5, -0.5, -0.5, -0.5]]\n",
        "determinant_X = np.linalg.det(X)\n",
        "print(X)\n",
        "print(determinant_X)"
      ],
      "metadata": {
        "colab": {
          "base_uri": "https://localhost:8080/"
        },
        "id": "4igRvr4fQESD",
        "outputId": "459bf4a0-80b3-4633-cad3-fc309bb9d34c"
      },
      "execution_count": null,
      "outputs": [
        {
          "output_type": "stream",
          "name": "stdout",
          "text": [
            "[[1, 2, 3], [4, 5, 6], [7, 8, 9]]\n",
            "0.0\n",
            "[[1, 0, 4, -6], [2, 5, 0, 3], [2, 0, 8, -12], [2, 1, -2, 3]]\n",
            "0.0\n",
            "[[1, 1, -1], [1, 2, 2], [0, 3, 4]]\n",
            "-5.000000000000001\n",
            "[[0.5, 0.5, 0.5, 0.5], [0.5, -0.5, 0.5, 0.5], [0.5, 0.5, -0.5, 0.5], [0.5, -0.5, -0.5, -0.5]]\n",
            "-0.5\n"
          ]
        }
      ]
    },
    {
      "cell_type": "code",
      "source": [
        "# Dot product of vectors\n",
        "# print(len(X))\n",
        "\n",
        "X = [[0.5, 0.5, 0.5, 0.5],\n",
        "     [0.5, -0.5, 0.5, 0.5],\n",
        "     [0.5, 0.5, -0.5, 0.5],\n",
        "     [0.5, -0.5, -0.5, -0.5]]\n",
        "print(\"X: \", X)\n",
        "\n",
        "n = len(X)\n",
        "transpose_X = [] # To access columns easily\n",
        "\n",
        "for i in range(n):\n",
        "  i_th_column = []\n",
        "  for j in range(n):\n",
        "    i_th_column.append(X[j][i])\n",
        "  transpose_X.append(i_th_column)\n",
        "\n",
        "print(\"Transpose of X: \", transpose_X, \"(to access columns easily)\")\n",
        "\n",
        "for i in range(n):\n",
        "  for j in range(n):\n",
        "    if j > i and np.dot(transpose_X[i], transpose_X[j]) == 0:\n",
        "      print(\"transpose_X[\", i, \"] = \", transpose_X[i], \", transpose_X[\", j, \"] = \", transpose_X[j],\" are perpendicular\")\n",
        "    if j > i and np.dot(transpose_X[i], transpose_X[j]) != 0:\n",
        "      print(\"transpose_X[\", i, \"] = \", transpose_X[i], \", transpose_X[\", j, \"] = \", transpose_X[j],\" are not perpendicular\")"
      ],
      "metadata": {
        "colab": {
          "base_uri": "https://localhost:8080/"
        },
        "id": "7luy6ZTGUnNR",
        "outputId": "314e0f35-caf9-4849-ce0f-af18194c7875"
      },
      "execution_count": null,
      "outputs": [
        {
          "output_type": "stream",
          "name": "stdout",
          "text": [
            "X:  [[0.5, 0.5, 0.5, 0.5], [0.5, -0.5, 0.5, 0.5], [0.5, 0.5, -0.5, 0.5], [0.5, -0.5, -0.5, -0.5]]\n",
            "Transpose of X:  [[0.5, 0.5, 0.5, 0.5], [0.5, -0.5, 0.5, -0.5], [0.5, 0.5, -0.5, -0.5], [0.5, 0.5, 0.5, -0.5]] (to access columns easily)\n",
            "transpose_X[ 0 ] =  [0.5, 0.5, 0.5, 0.5] , transpose_X[ 1 ] =  [0.5, -0.5, 0.5, -0.5]  are perpendicular\n",
            "transpose_X[ 0 ] =  [0.5, 0.5, 0.5, 0.5] , transpose_X[ 2 ] =  [0.5, 0.5, -0.5, -0.5]  are perpendicular\n",
            "transpose_X[ 0 ] =  [0.5, 0.5, 0.5, 0.5] , transpose_X[ 3 ] =  [0.5, 0.5, 0.5, -0.5]  are not perpendicular\n",
            "transpose_X[ 1 ] =  [0.5, -0.5, 0.5, -0.5] , transpose_X[ 2 ] =  [0.5, 0.5, -0.5, -0.5]  are perpendicular\n",
            "transpose_X[ 1 ] =  [0.5, -0.5, 0.5, -0.5] , transpose_X[ 3 ] =  [0.5, 0.5, 0.5, -0.5]  are not perpendicular\n",
            "transpose_X[ 2 ] =  [0.5, 0.5, -0.5, -0.5] , transpose_X[ 3 ] =  [0.5, 0.5, 0.5, -0.5]  are not perpendicular\n"
          ]
        }
      ]
    },
    {
      "cell_type": "code",
      "source": [
        "# Projection Time!\n",
        "\n",
        "def proj(u_j, v_i):\n",
        "  inner_product_u_j_v_i_divided_by_inner_product_u_j_u_j = np.dot(v_i, u_j)/np.dot(u_j, u_j)\n",
        "  # print(\"v, u\", np.dot(v_i, u_j))\n",
        "  # print(\"u, u\", np.dot(u_j, u_j))\n",
        "  # u_k = []\n",
        "  # for x in range(u_j.size):\n",
        "  #   # print(u_j[x])\n",
        "  #   u_k.append(u_j[x])\n",
        "  # for i in range(u_j.size):\n",
        "  #   u_k[i] = u_k[i] * inner_product_u_j_v_i_divided_by_inner_product_u_j_u_j\n",
        "  u_j = u_j * inner_product_u_j_v_i_divided_by_inner_product_u_j_u_j\n",
        "  # print(\"u_k\", u_k, \"   u_j\", u_j)\n",
        "  # if (u_k == u_j).all():\n",
        "  #   print(\"opa!\")\n",
        "  return u_j\n",
        "\n",
        "# v4 - proj_u1(v4)- proj_u2(v4)- proj_u3(v4)\n",
        "# proj_x(y) = ( ⟨y, x〉/ ⟨x, x〉)*x= ((y dot x)/(x dot x))*x\n",
        "\n",
        "U = []\n",
        "\n",
        "for i in range(n):\n",
        "  # print(transpose_X[i])\n",
        "  v_i = np.array(transpose_X[i])\n",
        "  u_i = v_i\n",
        "  print(\"v_\", i, \": \", v_i)\n",
        "  print(\"u_\", i, \": \", u_i, \"(initially)\")\n",
        "  # print(u_i)\n",
        "  for j in range(n):\n",
        "    if j < i:\n",
        "      # print(transpose_X[i])\n",
        "      # print(i, \" \", j)\n",
        "      print(\"proj_u_\", j, \"(v_\", i, \"): \", proj(U[j], v_i))\n",
        "      u_i = u_i - proj(U[j], v_i)\n",
        "  print(\"u_\", i, \": \", u_i, \"(final)\")\n",
        "  U.append(u_i)\n",
        "  print(\"U : \", U, \"\\n\")\n",
        "\n",
        "# column1 = np.array([0.5, 0.5, 0.5, 0.5])\n",
        "# print(np.dot(column1, column1))\n",
        "print(\"U : \", U, \"(Final)\\n\")"
      ],
      "metadata": {
        "colab": {
          "base_uri": "https://localhost:8080/"
        },
        "id": "WxY5Mu3mMENj",
        "outputId": "fc937827-3859-43fe-b0b0-3449f163df27"
      },
      "execution_count": null,
      "outputs": [
        {
          "output_type": "stream",
          "name": "stdout",
          "text": [
            "v_ 0 :  [0.5 0.5 0.5 0.5]\n",
            "u_ 0 :  [0.5 0.5 0.5 0.5] (initially)\n",
            "u_ 0 :  [0.5 0.5 0.5 0.5] (final)\n",
            "U :  [array([0.5, 0.5, 0.5, 0.5])] \n",
            "\n",
            "v_ 1 :  [ 0.5 -0.5  0.5 -0.5]\n",
            "u_ 1 :  [ 0.5 -0.5  0.5 -0.5] (initially)\n",
            "proj_u_ 0 (v_ 1 ):  [0. 0. 0. 0.]\n",
            "u_ 1 :  [ 0.5 -0.5  0.5 -0.5] (final)\n",
            "U :  [array([0.5, 0.5, 0.5, 0.5]), array([ 0.5, -0.5,  0.5, -0.5])] \n",
            "\n",
            "v_ 2 :  [ 0.5  0.5 -0.5 -0.5]\n",
            "u_ 2 :  [ 0.5  0.5 -0.5 -0.5] (initially)\n",
            "proj_u_ 0 (v_ 2 ):  [0. 0. 0. 0.]\n",
            "proj_u_ 1 (v_ 2 ):  [ 0. -0.  0. -0.]\n",
            "u_ 2 :  [ 0.5  0.5 -0.5 -0.5] (final)\n",
            "U :  [array([0.5, 0.5, 0.5, 0.5]), array([ 0.5, -0.5,  0.5, -0.5]), array([ 0.5,  0.5, -0.5, -0.5])] \n",
            "\n",
            "v_ 3 :  [ 0.5  0.5  0.5 -0.5]\n",
            "u_ 3 :  [ 0.5  0.5  0.5 -0.5] (initially)\n",
            "proj_u_ 0 (v_ 3 ):  [0.25 0.25 0.25 0.25]\n",
            "proj_u_ 1 (v_ 3 ):  [ 0.25 -0.25  0.25 -0.25]\n",
            "proj_u_ 2 (v_ 3 ):  [ 0.25  0.25 -0.25 -0.25]\n",
            "u_ 3 :  [-0.25  0.25  0.25 -0.25] (final)\n",
            "U :  [array([0.5, 0.5, 0.5, 0.5]), array([ 0.5, -0.5,  0.5, -0.5]), array([ 0.5,  0.5, -0.5, -0.5]), array([-0.25,  0.25,  0.25, -0.25])] \n",
            "\n",
            "U :  [array([0.5, 0.5, 0.5, 0.5]), array([ 0.5, -0.5,  0.5, -0.5]), array([ 0.5,  0.5, -0.5, -0.5]), array([-0.25,  0.25,  0.25, -0.25])] (Final)\n",
            "\n"
          ]
        }
      ]
    },
    {
      "cell_type": "code",
      "source": [
        "# # Bernstein Vizarani - complete!!!\n",
        "\n",
        "# n =  2 # No. of bits\n",
        "# M = (1 << n) \t# No. of rows (2^n)\n",
        "# N = (1 << n) + n \t# No. of columns (2^n + n)\n",
        "\n",
        "# Table = [] # Final table\n",
        "\n",
        "# for row in range(M):\n",
        "#   Table.append([])\n",
        "#   for column in range(N):\n",
        "#     Table[row].append(0)\n",
        "\n",
        "# for column in range(n):\n",
        "#   bit = 0\n",
        "#   count = 0\n",
        "#   powerOfTwo = (1 << (n - 1 - column))\n",
        "#   for row in range(M):\n",
        "#     if count >= powerOfTwo:\n",
        "#       count = 0\n",
        "#       if bit == 0:\n",
        "#         bit = 1\n",
        "#       elif bit == 1:\n",
        "#         bit = 0\n",
        "#     Table[row][column] = bit\n",
        "#     count = count + 1\n",
        "\n",
        "# JustXTable = []\n",
        "# for row in range(M):\n",
        "#   X = []\n",
        "#   for column in range(n):\n",
        "#     X.append(Table[row][column])\n",
        "#   JustXTable.append(X)\n",
        "\n",
        "# for X in range(M):\n",
        "#   for S in range(M):\n",
        "#     ListOfAnds = []\n",
        "#     for i in range(n):\n",
        "#       ListOfAnds.append(str(JustXTable[X][i]) + '.' + str(JustXTable[S][i]))\n",
        "#     XOROfListOfAnds = ''\n",
        "#     for i in range(n):\n",
        "#       if i == (n - 1):\n",
        "#         XOROfListOfAnds = XOROfListOfAnds + ListOfAnds[i]\n",
        "#       else:\n",
        "#         XOROfListOfAnds = XOROfListOfAnds + ListOfAnds[i] + ' ⊕ '\n",
        "#     Table[X][S + n] = XOROfListOfAnds\n",
        "\n",
        "# print(\"Formula: \\n\")\n",
        "\n",
        "# for row in range(M):\n",
        "#   print(Table[row], \"\\n\")\n",
        "\n",
        "# print(\"After calculating values classically: \\n\")\n",
        "\n",
        "# for X in range(M):\n",
        "#   for S in range(M):\n",
        "#     ListOfAnds = []\n",
        "#     for i in range(n):\n",
        "#       ListOfAnds.append(JustXTable[X][i] & JustXTable[S][i]) # ANDing xi and si\n",
        "#     XOROfListOfAnds = ListOfAnds[0]\n",
        "#     for i in range(n):\n",
        "#       if i != 0:\n",
        "#         XOROfListOfAnds = XOROfListOfAnds ^ ListOfAnds[i] # XORing xi.si with next xi.si\n",
        "#     Table[X][S + n] = XOROfListOfAnds\n",
        "\n",
        "# for row in range(M):\n",
        "#   print(Table[row], \"\\n\")\n",
        "\n",
        "# print(\"After calculating values quantum-way: \\n\")\n",
        "\n",
        "# for row in range(M):\n",
        "#   for column in range(N):\n",
        "#     if column > (n - 1):\n",
        "#       if Table[row][column] == 0:\n",
        "#         Table[row][column] = 0.5\n",
        "#       elif Table[row][column] == 1:\n",
        "#         Table[row][column] = -0.5\n",
        "\n",
        "# for row in range(M):\n",
        "#   print(Table[row], \"\\n\")\n",
        "\n",
        "# print(\"Determing if quantum-way matrix is orthogonal: \\n\")\n",
        "\n",
        "# import numpy as np\n",
        "\n",
        "# Matrix = []\n",
        "\n",
        "# for row in range(M):\n",
        "#   Row = []\n",
        "#   for column in range(N):\n",
        "#     if column > (n - 1):\n",
        "#       Row.append(Table[row][column])\n",
        "#   Matrix.append(Row)\n",
        "\n",
        "# Matrix = np.array(Matrix)\n",
        "# TransposeOfMatrix = Matrix.transpose()\n",
        "\n",
        "# orthognality = True\n",
        "# for i in range(M):\n",
        "#   for j in range(M):\n",
        "#     if i != j and (abs(np.dot(TransposeOfMatrix[i], TransposeOfMatrix[j])) > 1e-9):\n",
        "#       orthognality = False\n",
        "#       break\n",
        "\n",
        "# if orthognality == True:\n",
        "#   print('Matrix is orthogonal')\n",
        "# else:\n",
        "#   print('Matrix is not orthogonal')"
      ],
      "metadata": {
        "id": "UC-OIMacWj9X"
      },
      "execution_count": null,
      "outputs": []
    },
    {
      "cell_type": "code",
      "source": [
        "# # Bernstein-Vizirani with AND approach\n",
        "\n",
        "# n =  2 # No. of bits\n",
        "# M = (1 << n) \t# No. of rows (2^n)\n",
        "# N = (1 << n) + n \t# No. of columns (2^n + n)\n",
        "\n",
        "# Table = [] # Final table\n",
        "\n",
        "# for row in range(M):\n",
        "#   Table.append([])\n",
        "#   for column in range(N):\n",
        "#     Table[row].append(0)\n",
        "\n",
        "# for column in range(n):\n",
        "#   bit = 0\n",
        "#   count = 0\n",
        "#   powerOfTwo = (1 << (n - 1 - column))\n",
        "#   for row in range(M):\n",
        "#     if count >= powerOfTwo:\n",
        "#       count = 0\n",
        "#       if bit == 0:\n",
        "#         bit = 1\n",
        "#       elif bit == 1:\n",
        "#         bit = 0\n",
        "#     Table[row][column] = bit\n",
        "#     count = count + 1\n",
        "\n",
        "# JustXTable = []\n",
        "# for row in range(M):\n",
        "#   X = []\n",
        "#   for column in range(n):\n",
        "#     X.append(Table[row][column])\n",
        "#   JustXTable.append(X)\n",
        "\n",
        "# for X in range(M):\n",
        "#   for S in range(M):\n",
        "#     ListOfAnds = []\n",
        "#     for i in range(n):\n",
        "#       if JustXTable[S][i] == 1:\n",
        "#         ListOfAnds.append('(' + str(JustXTable[X][i]) + ' & ' + str(JustXTable[S][i]) + ')')\n",
        "#       else:\n",
        "#         ListOfAnds.append('1')\n",
        "#     ANDOfListOfAnds = ''\n",
        "#     for i in range(n):\n",
        "#       if i == (n - 1):\n",
        "#         ANDOfListOfAnds = ANDOfListOfAnds + ListOfAnds[i]\n",
        "#       else:\n",
        "#         ANDOfListOfAnds = ANDOfListOfAnds + ListOfAnds[i] + ' & '\n",
        "#     Table[X][S + n] = ANDOfListOfAnds\n",
        "\n",
        "# print(\"Formula: \\n\")\n",
        "\n",
        "# for row in range(M):\n",
        "#   print(Table[row], \"\\n\")\n",
        "\n",
        "# print(\"After calculating values classically: \\n\")\n",
        "\n",
        "# for X in range(M):\n",
        "#   for S in range(M):\n",
        "#     ListOfAnds = []\n",
        "#     for i in range(n):\n",
        "#       if JustXTable[S][i] == 1:\n",
        "#         ListOfAnds.append(JustXTable[X][i] & JustXTable[S][i]) # ANDing xi and si\n",
        "#       else:\n",
        "#         ListOfAnds.append(1)\n",
        "#     if len(ListOfAnds) != 0:\n",
        "#       ANDOfListOfAnds = ListOfAnds[0]\n",
        "#       for i in range(len(ListOfAnds)):\n",
        "#         if i != 0:\n",
        "#           ANDOfListOfAnds = ANDOfListOfAnds & ListOfAnds[i] # ANDing xi.si with next xi.si\n",
        "#       Table[X][S + n] = ANDOfListOfAnds\n",
        "\n",
        "# for row in range(M):\n",
        "#   print(Table[row], \"\\n\")\n",
        "\n",
        "# print(\"After calculating values quantum-way: \\n\")\n",
        "\n",
        "# for row in range(M):\n",
        "#   for column in range(N):\n",
        "#     if column > (n - 1):\n",
        "#       if Table[row][column] == 0:\n",
        "#         Table[row][column] = 0.5\n",
        "#       elif Table[row][column] == 1:\n",
        "#         Table[row][column] = -0.5\n",
        "\n",
        "# for row in range(M):\n",
        "#   print(Table[row], \"\\n\")\n",
        "\n",
        "# print(\"Determing if quantum-way matrix is orthogonal: \\n\")\n",
        "\n",
        "# import numpy as np\n",
        "\n",
        "# Matrix = []\n",
        "\n",
        "# for row in range(M):\n",
        "#   Row = []\n",
        "#   for column in range(N):\n",
        "#     if column > (n - 1):\n",
        "#       Row.append(Table[row][column])\n",
        "#   Matrix.append(Row)\n",
        "\n",
        "# Matrix = np.array(Matrix)\n",
        "# TransposeOfMatrix = Matrix.transpose()\n",
        "\n",
        "# orthognality = True\n",
        "# for i in range(M):\n",
        "#   for j in range(M):\n",
        "#     if i != j and (abs(np.dot(TransposeOfMatrix[i], TransposeOfMatrix[j])) > 1e-9):\n",
        "#       orthognality = False\n",
        "#       break\n",
        "\n",
        "# if orthognality == True:\n",
        "#   print('Matrix is orthogonal')\n",
        "# else:\n",
        "#   print('Matrix is not orthogonal')"
      ],
      "metadata": {
        "id": "LB8l8oAGgbhm"
      },
      "execution_count": null,
      "outputs": []
    },
    {
      "cell_type": "code",
      "source": [
        "def printTable(Table):\n",
        "  for row in range(len(Table)):\n",
        "    print(Table[row], \"\\n\")"
      ],
      "metadata": {
        "id": "FVl7r3NQ996D"
      },
      "execution_count": null,
      "outputs": []
    },
    {
      "cell_type": "code",
      "source": [
        "def initializeTable(n):\n",
        "  M = (1 << n)\n",
        "  N = (1 << n) + n\n",
        "  Table = []\n",
        "  for row in range(M):\n",
        "    Table.append([])\n",
        "    for column in range(N):\n",
        "      Table[row].append(0)\n",
        "  for column in range(n):\n",
        "    bit = 0\n",
        "    count = 0\n",
        "    powerOfTwo = (1 << (n - 1 - column))\n",
        "    for row in range(M):\n",
        "      if count >= powerOfTwo:\n",
        "        count = 0\n",
        "        if bit == 0:\n",
        "          bit = 1\n",
        "        elif bit == 1:\n",
        "          bit = 0\n",
        "      Table[row][column] = bit\n",
        "      count = count + 1\n",
        "  return Table"
      ],
      "metadata": {
        "id": "h13bY9WA9DH4"
      },
      "execution_count": null,
      "outputs": []
    },
    {
      "cell_type": "code",
      "source": [
        "def makingJustXTableToIterateOverAllXiAndSi(n, Table):\n",
        "  JustXTable = []\n",
        "  for row in range(M):\n",
        "    X = []\n",
        "    for column in range(n):\n",
        "      X.append(Table[row][column])\n",
        "    JustXTable.append(X)\n",
        "  return JustXTable"
      ],
      "metadata": {
        "id": "YsD_uXNt_8He"
      },
      "execution_count": null,
      "outputs": []
    },
    {
      "cell_type": "code",
      "source": [
        "def BernsteinViziraniFunction(n, Table):\n",
        "  FunctionTable = Table\n",
        "  JustXTable = makingJustXTableToIterateOverAllXiAndSi(n, FunctionTable)\n",
        "  for X in range(len(FunctionTable)):\n",
        "    for S in range(len(FunctionTable)):\n",
        "      ListOfAnds = []\n",
        "      for i in range(n):\n",
        "        ListOfAnds.append(JustXTable[X][i] & JustXTable[S][i]) # ANDing xi and si\n",
        "      XOROfListOfAnds = ListOfAnds[0]\n",
        "      for i in range(n):\n",
        "        if i != 0:\n",
        "          XOROfListOfAnds = XOROfListOfAnds ^ ListOfAnds[i] # XORing xi.si with next xi.si\n",
        "      FunctionTable[X][S + n] = XOROfListOfAnds\n",
        "  printTable(FunctionTable)\n",
        "  return FunctionTable"
      ],
      "metadata": {
        "id": "-KMiBQJqEH3Z"
      },
      "execution_count": null,
      "outputs": []
    },
    {
      "cell_type": "code",
      "source": [
        "def printingBernsteinViziraniFormulaTable(n, Table):\n",
        "  ForumlaTable = Table\n",
        "  JustXTable = makingJustXTableToIterateOverAllXiAndSi(n, ForumlaTable)\n",
        "  for X in range(len(ForumlaTable)):\n",
        "    for S in range(len(ForumlaTable)):\n",
        "      ListOfAnds = []\n",
        "      for i in range(n):\n",
        "        ListOfAnds.append(str(JustXTable[X][i]) + '.' + str(JustXTable[S][i]))\n",
        "      XOROfListOfAnds = ''\n",
        "      for i in range(n):\n",
        "        if i == (n - 1):\n",
        "          XOROfListOfAnds = XOROfListOfAnds + ListOfAnds[i]\n",
        "        else:\n",
        "          XOROfListOfAnds = XOROfListOfAnds + ListOfAnds[i] + ' ⊕ '\n",
        "      ForumlaTable[X][S + n] = XOROfListOfAnds\n",
        "  printTable(ForumlaTable)"
      ],
      "metadata": {
        "id": "STH6Gc5jBJ9V"
      },
      "execution_count": null,
      "outputs": []
    },
    {
      "cell_type": "code",
      "source": [
        "def ANDApproachFunction(n, Table):\n",
        "  FunctionTable = Table\n",
        "  JustXTable = makingJustXTableToIterateOverAllXiAndSi(n, FunctionTable)\n",
        "  for X in range(len(FunctionTable)):\n",
        "    for S in range(len(FunctionTable)):\n",
        "      ListOfAnds = []\n",
        "      for i in range(n):\n",
        "        if JustXTable[S][i] == 1:\n",
        "          ListOfAnds.append(JustXTable[X][i] & JustXTable[S][i]) # ANDing xi and si\n",
        "        else:\n",
        "          ListOfAnds.append(1)\n",
        "      if len(ListOfAnds) != 0:\n",
        "        ANDOfListOfAnds = ListOfAnds[0]\n",
        "        for i in range(len(ListOfAnds)):\n",
        "          if i != 0:\n",
        "            ANDOfListOfAnds = ANDOfListOfAnds & ListOfAnds[i] # ANDing xi.si with next xi.si\n",
        "        FunctionTable[X][S + n] = ANDOfListOfAnds\n",
        "  printTable(FunctionTable)\n",
        "  return FunctionTable"
      ],
      "metadata": {
        "id": "eINvMpeFEkTn"
      },
      "execution_count": null,
      "outputs": []
    },
    {
      "cell_type": "code",
      "source": [
        "def printingANDApproachFormulaTable(n, Table):\n",
        "  ForumlaTable = Table\n",
        "  JustXTable = makingJustXTableToIterateOverAllXiAndSi(n, ForumlaTable)\n",
        "  for X in range(len(ForumlaTable)):\n",
        "    for S in range(len(ForumlaTable)):\n",
        "      ListOfAnds = []\n",
        "      for i in range(n):\n",
        "        if JustXTable[S][i] == 1:\n",
        "          ListOfAnds.append('(' + str(JustXTable[X][i]) + ' & ' + str(JustXTable[S][i]) + ')')\n",
        "        else:\n",
        "          ListOfAnds.append('1')\n",
        "      ANDOfListOfAnds = ''\n",
        "      for i in range(n):\n",
        "        if i == (n - 1):\n",
        "          ANDOfListOfAnds = ANDOfListOfAnds + ListOfAnds[i]\n",
        "        else:\n",
        "          ANDOfListOfAnds = ANDOfListOfAnds + ListOfAnds[i] + ' & '\n",
        "      ForumlaTable[X][S + n] = ANDOfListOfAnds\n",
        "  printTable(ForumlaTable)"
      ],
      "metadata": {
        "id": "5orUQRrvDyIc"
      },
      "execution_count": null,
      "outputs": []
    },
    {
      "cell_type": "code",
      "source": [
        "def convertIntoQuantumTable(n, Table):\n",
        "  QuantumTable = Table\n",
        "  print(QuantumTable)\n",
        "  for row in range(len(QuantumTable)):\n",
        "    for column in range(len(QuantumTable) + n):\n",
        "      if column > (n - 1):\n",
        "        if QuantumTable[row][column] == 0:\n",
        "          QuantumTable[row][column] = 0.5\n",
        "        elif QuantumTable[row][column] == 1:\n",
        "          QuantumTable[row][column] = -0.5\n",
        "  printTable(QuantumTable)\n",
        "  return QuantumTable"
      ],
      "metadata": {
        "id": "oTtPuNQe7Bmh"
      },
      "execution_count": null,
      "outputs": []
    },
    {
      "cell_type": "code",
      "source": [
        "def checkOrthogonality(n, Table):\n",
        "  import numpy as np\n",
        "  Matrix = []\n",
        "  for row in range(len(Table)):\n",
        "    Row = []\n",
        "    for column in range(len(Table) + n):\n",
        "      if column > (n - 1):\n",
        "        Row.append(Table[row][column])\n",
        "    Matrix.append(Row)\n",
        "  Matrix = np.array(Matrix)\n",
        "  TransposeOfMatrix = Matrix.transpose()\n",
        "  orthognality = True\n",
        "  for i in range(len(Table)):\n",
        "    for j in range(len(Table)):\n",
        "      if i != j and (abs(np.dot(TransposeOfMatrix[i], TransposeOfMatrix[j])) > 1e-9):\n",
        "        orthognality = False\n",
        "        break\n",
        "  if orthognality == True:\n",
        "    print('Matrix is orthogonal')\n",
        "  else:\n",
        "    print('Matrix is not orthogonal')\n",
        "  return orthognality"
      ],
      "metadata": {
        "id": "TSL9WZOd6JF_"
      },
      "execution_count": null,
      "outputs": []
    },
    {
      "cell_type": "code",
      "source": [
        "# Bernstein-Vizirani\n",
        "\n",
        "n =  2 # No. of bits\n",
        "Table = initializeTable(n)\n",
        "\n",
        "print(\"Formula: \\n\")\n",
        "printingBernsteinViziraniFormulaTable(n, Table)\n",
        "\n",
        "print(\"After calculating values classically: \\n\")\n",
        "Table = BernsteinViziraniFunction(n, Table)\n",
        "\n",
        "print(\"After calculating values quantum-way: \\n\")\n",
        "Table = convertIntoQuantumTable(n, Table)\n",
        "\n",
        "print(\"Determing if quantum-way matrix is orthogonal: \\n\")\n",
        "checkOrthogonality(n, Table)"
      ],
      "metadata": {
        "colab": {
          "base_uri": "https://localhost:8080/"
        },
        "id": "qFpj9OdJ-PqW",
        "outputId": "cf9e355f-2d81-4e1a-972d-73d025a2763a"
      },
      "execution_count": null,
      "outputs": [
        {
          "output_type": "stream",
          "name": "stdout",
          "text": [
            "Formula: \n",
            "\n",
            "[0, 0, '0.0 ⊕ 0.0', '0.0 ⊕ 0.1', '0.1 ⊕ 0.0', '0.1 ⊕ 0.1'] \n",
            "\n",
            "[0, 1, '0.0 ⊕ 1.0', '0.0 ⊕ 1.1', '0.1 ⊕ 1.0', '0.1 ⊕ 1.1'] \n",
            "\n",
            "[1, 0, '1.0 ⊕ 0.0', '1.0 ⊕ 0.1', '1.1 ⊕ 0.0', '1.1 ⊕ 0.1'] \n",
            "\n",
            "[1, 1, '1.0 ⊕ 1.0', '1.0 ⊕ 1.1', '1.1 ⊕ 1.0', '1.1 ⊕ 1.1'] \n",
            "\n",
            "After calculating values classically: \n",
            "\n",
            "[0, 0, 0, 0, 0, 0] \n",
            "\n",
            "[0, 1, 0, 1, 0, 1] \n",
            "\n",
            "[1, 0, 0, 0, 1, 1] \n",
            "\n",
            "[1, 1, 0, 1, 1, 0] \n",
            "\n",
            "After calculating values quantum-way: \n",
            "\n",
            "[[0, 0, 0, 0, 0, 0], [0, 1, 0, 1, 0, 1], [1, 0, 0, 0, 1, 1], [1, 1, 0, 1, 1, 0]]\n",
            "[0, 0, 0.5, 0.5, 0.5, 0.5] \n",
            "\n",
            "[0, 1, 0.5, -0.5, 0.5, -0.5] \n",
            "\n",
            "[1, 0, 0.5, 0.5, -0.5, -0.5] \n",
            "\n",
            "[1, 1, 0.5, -0.5, -0.5, 0.5] \n",
            "\n",
            "Determing if quantum-way matrix is orthogonal: \n",
            "\n",
            "Matrix is orthogonal\n"
          ]
        },
        {
          "output_type": "execute_result",
          "data": {
            "text/plain": [
              "True"
            ]
          },
          "metadata": {},
          "execution_count": 249
        }
      ]
    },
    {
      "cell_type": "code",
      "source": [
        "# Bernstein-Vizirani with AND approach\n",
        "\n",
        "n =  2 # No. of bits\n",
        "Table = initializeTable(n)\n",
        "\n",
        "print(\"Formula: \\n\")\n",
        "printingANDApproachFormulaTable(n, Table)\n",
        "\n",
        "print(\"After calculating values classically: \\n\")\n",
        "Table = ANDApproachFunction(n, Table)\n",
        "\n",
        "print(\"After calculating values quantum-way: \\n\")\n",
        "Table = convertIntoQuantumTable(n, Table)\n",
        "\n",
        "print(\"Determing if quantum-way matrix is orthogonal: \\n\")\n",
        "checkOrthogonality(n, Table)"
      ],
      "metadata": {
        "colab": {
          "base_uri": "https://localhost:8080/"
        },
        "id": "qOTYI89rKcP7",
        "outputId": "d68179d8-6a64-41a3-bdb7-3f816db50e24"
      },
      "execution_count": null,
      "outputs": [
        {
          "output_type": "stream",
          "name": "stdout",
          "text": [
            "Formula: \n",
            "\n",
            "[0, 0, '1 & 1', '1 & (0 & 1)', '(0 & 1) & 1', '(0 & 1) & (0 & 1)'] \n",
            "\n",
            "[0, 1, '1 & 1', '1 & (1 & 1)', '(0 & 1) & 1', '(0 & 1) & (1 & 1)'] \n",
            "\n",
            "[1, 0, '1 & 1', '1 & (0 & 1)', '(1 & 1) & 1', '(1 & 1) & (0 & 1)'] \n",
            "\n",
            "[1, 1, '1 & 1', '1 & (1 & 1)', '(1 & 1) & 1', '(1 & 1) & (1 & 1)'] \n",
            "\n",
            "After calculating values classically: \n",
            "\n",
            "[0, 0, 1, 0, 0, 0] \n",
            "\n",
            "[0, 1, 1, 1, 0, 0] \n",
            "\n",
            "[1, 0, 1, 0, 1, 0] \n",
            "\n",
            "[1, 1, 1, 1, 1, 1] \n",
            "\n",
            "After calculating values quantum-way: \n",
            "\n",
            "[[0, 0, 1, 0, 0, 0], [0, 1, 1, 1, 0, 0], [1, 0, 1, 0, 1, 0], [1, 1, 1, 1, 1, 1]]\n",
            "[0, 0, -0.5, 0.5, 0.5, 0.5] \n",
            "\n",
            "[0, 1, -0.5, -0.5, 0.5, 0.5] \n",
            "\n",
            "[1, 0, -0.5, 0.5, -0.5, 0.5] \n",
            "\n",
            "[1, 1, -0.5, -0.5, -0.5, -0.5] \n",
            "\n",
            "Determing if quantum-way matrix is orthogonal: \n",
            "\n",
            "Matrix is not orthogonal\n"
          ]
        }
      ]
    },
    {
      "cell_type": "code",
      "source": [
        "# def printingSvetlichnyFormulaTable(n, Table):\n",
        "#   ForumlaTable = Table\n",
        "#   JustXTable = makingJustXTableToIterateOverAllXiAndSi(n, ForumlaTable)\n",
        "#   for X in range(len(ForumlaTable)):\n",
        "#     for S in range(len(ForumlaTable)):\n",
        "#       ListOfAnds = []\n",
        "#       for i in range(n):\n",
        "#         if JustXTable[S][i] == 1:\n",
        "#           ListOfAnds.append('(' + str(JustXTable[X][i]) + ' & ' + str(JustXTable[S][i]) + ')')\n",
        "#         else:\n",
        "#           ListOfAnds.append('1')\n",
        "#       ANDOfListOfAnds = ''\n",
        "#       for i in range(n):\n",
        "#         if i == (n - 1):\n",
        "#           ANDOfListOfAnds = ANDOfListOfAnds + ListOfAnds[i]\n",
        "#         else:\n",
        "#           ANDOfListOfAnds = ANDOfListOfAnds + ListOfAnds[i] + ' & '\n",
        "#       ForumlaTable[X][S + n] = ANDOfListOfAnds\n",
        "#   printTable(ForumlaTable)"
      ],
      "metadata": {
        "id": "9Y_Nko2uMUm-"
      },
      "execution_count": null,
      "outputs": []
    },
    {
      "cell_type": "code",
      "source": [
        "# def SvetlichnyFunction(n, Table):\n",
        "#   FunctionTable = Table\n",
        "#   JustXTable = makingJustXTableToIterateOverAllXiAndSi(n, FunctionTable)\n",
        "#   for X in range(len(FunctionTable)):\n",
        "#     for S in range(len(FunctionTable)):\n",
        "#       ListOfAnds = []\n",
        "#       for i in range(n):\n",
        "#         if JustXTable[S][i] == 1:\n",
        "#           ListOfAnds.append(JustXTable[X][i] & JustXTable[S][i]) # ANDing xi and si\n",
        "#         else:\n",
        "#           ListOfAnds.append(1)\n",
        "#       if len(ListOfAnds) != 0:\n",
        "#         ANDOfListOfAnds = ListOfAnds[0]\n",
        "#         for i in range(len(ListOfAnds)):\n",
        "#           if i != 0:\n",
        "#             ANDOfListOfAnds = ANDOfListOfAnds & ListOfAnds[i] # ANDing xi.si with next xi.si\n",
        "#         FunctionTable[X][S + n] = ANDOfListOfAnds\n",
        "#   printTable(FunctionTable)\n",
        "#   return FunctionTable"
      ],
      "metadata": {
        "id": "eKiBC0KtNGfT"
      },
      "execution_count": null,
      "outputs": []
    },
    {
      "cell_type": "code",
      "source": [
        "# Svetlichny\n",
        "\n",
        "n =  3 # No. of bits\n",
        "Table = initializeTable(n)\n",
        "\n",
        "print(\"Formula: \\n\")\n",
        "printingSvetlichnyFormulaTable(n, Table)\n",
        "\n",
        "print(\"After calculating values classically: \\n\")\n",
        "Table = SvetlichnyFunction(n, Table)\n",
        "\n",
        "print(\"After calculating values quantum-way: \\n\")\n",
        "Table = convertIntoQuantumTable(n, Table)\n",
        "\n",
        "print(\"Determing if quantum-way matrix is orthogonal: \\n\")\n",
        "checkOrthogonality(n, Table)"
      ],
      "metadata": {
        "id": "Pn3wIQQ0L_OB"
      },
      "execution_count": null,
      "outputs": []
    }
  ]
}