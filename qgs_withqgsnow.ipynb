{
  "nbformat": 4,
  "nbformat_minor": 0,
  "metadata": {
    "colab": {
      "provenance": []
    },
    "kernelspec": {
      "name": "python3",
      "display_name": "Python 3"
    },
    "language_info": {
      "name": "python"
    }
  },
  "cells": [
    {
      "cell_type": "markdown",
      "source": [
        "### Imports"
      ],
      "metadata": {
        "id": "lr1eak9_cv32"
      }
    },
    {
      "cell_type": "code",
      "source": [
        "import numpy as np"
      ],
      "metadata": {
        "id": "K_twk-rxct8l"
      },
      "execution_count": 255,
      "outputs": []
    },
    {
      "cell_type": "markdown",
      "source": [
        "### Install Cirq"
      ],
      "metadata": {
        "id": "-hFm3s5sJcrB"
      }
    },
    {
      "cell_type": "code",
      "execution_count": 256,
      "metadata": {
        "id": "iFmC_etXDJ2T"
      },
      "outputs": [],
      "source": [
        "try:\n",
        "  import cirq\n",
        "except ImportError:\n",
        "  print(\"Installing Cirq...\")\n",
        "  !pip install --quiet cirq\n",
        "  import cirq\n",
        "\n",
        "  print(\"Cirq is now installed.\")"
      ]
    },
    {
      "cell_type": "markdown",
      "source": [
        "### Helper Functions"
      ],
      "metadata": {
        "id": "H_TZFw_Hay50"
      }
    },
    {
      "cell_type": "code",
      "source": [
        "def norm(vector):\n",
        "  return np.linalg.norm(vector, 2)\n",
        "\n",
        "def frobenius_norm(matrix):\n",
        "  return np.linalg.norm(matrix, 'fro')\n",
        "\n",
        "def ket(i, m):\n",
        "  ket = []\n",
        "  for j in range(m):\n",
        "    if j == i:\n",
        "      ket.append(1)\n",
        "    else:\n",
        "      ket.append(0)\n",
        "  return ket"
      ],
      "metadata": {
        "id": "HXTSG8Y9YfZZ"
      },
      "execution_count": 257,
      "outputs": []
    },
    {
      "cell_type": "markdown",
      "source": [
        "### $R_i$ Gate"
      ],
      "metadata": {
        "id": "HguW-zQcbjN8"
      }
    },
    {
      "cell_type": "code",
      "source": [
        "class R(cirq.Gate):\n",
        "  def __init__(self, i, t):\n",
        "    super(R, self)\n",
        "    self.i = i\n",
        "    self.t = t\n",
        "\n",
        "  def _num_qubits_(self):\n",
        "    d = len(t)\n",
        "    return ceil(log2(d))\n",
        "\n",
        "  def _unitary_(self):\n",
        "    t_i = [self.t[self.i]]\n",
        "    I = np.eye(len(t_i))\n",
        "    return I - (2 * np.outer(t_i, t_i))\n",
        "\n",
        "  def _circuit_diagram_info_(self, args):\n",
        "    return f\"R{self.i}\""
      ],
      "metadata": {
        "id": "rz9VxKuWaJBQ"
      },
      "execution_count": 258,
      "outputs": []
    },
    {
      "cell_type": "markdown",
      "source": [
        "### Input"
      ],
      "metadata": {
        "id": "PhoNcR9UQ1Tn"
      }
    },
    {
      "cell_type": "code",
      "source": [
        "zero_state = [1, 0]\n",
        "plus_state = [2**(-0.5), 2**(-0.5)]\n",
        "\n",
        "A = [zero_state, plus_state]\n",
        "print(f\"A = {A}\")\n",
        "\n",
        "print()\n",
        "\n",
        "m = len(zero_state)\n",
        "d = len(A)\n",
        "\n",
        "print(f\"m = {m}\")\n",
        "print(f\"d = {d}\")\n",
        "\n",
        "print()\n",
        "\n",
        "A_F = frobenius_norm(A)\n",
        "print(f\"|A|_F = {A_F}\")\n"
      ],
      "metadata": {
        "id": "PUFosP9oQ2jT",
        "colab": {
          "base_uri": "https://localhost:8080/"
        },
        "outputId": "9a9a2ef3-f7f9-4b6a-e60a-081b74dee1e1"
      },
      "execution_count": 259,
      "outputs": [
        {
          "output_type": "stream",
          "name": "stdout",
          "text": [
            "A = [[1, 0], [0.7071067811865476, 0.7071067811865476]]\n",
            "\n",
            "m = 2\n",
            "d = 2\n",
            "\n",
            "|A|_F = 1.4142135623730951\n"
          ]
        }
      ]
    },
    {
      "cell_type": "markdown",
      "source": [
        "### $V_A$"
      ],
      "metadata": {
        "id": "7dy5m99cej1c"
      }
    },
    {
      "cell_type": "code",
      "source": [
        "V_A = []\n",
        "\n",
        "# Resize it to the correct shape and fill with 0s.\n",
        "for i in range(m):\n",
        "  V_A.append(0)\n",
        "\n",
        "for i in range(m):\n",
        "  print(f\"A_{i} = {A[i]}\")\n",
        "\n",
        "  A_i = norm(A[i])\n",
        "  print(f\"|A_{i}| = {A_i}\")\n",
        "\n",
        "  ket_i = ket(i, m)\n",
        "  print(f\"|{i}〉= {ket_i}\")\n",
        "\n",
        "  # The amplitude (or coefficient) of each ket is the ratio between |A_i| and |A|_F.\n",
        "  # This is to renormalise each vector, ensuring unit length.\n",
        "  amplitude = A_i / A_F\n",
        "  print(f\"|A_i|/|A|_F = {amplitude}\")\n",
        "\n",
        "  for j in range(m):\n",
        "    ket_i[j] *= amplitude\n",
        "  print(f\"(|A_{i}|/|A|_F)|{i}〉= {ket_i}\")\n",
        "\n",
        "  print()\n",
        "\n",
        "  for j in range(m):\n",
        "    V_A[j] += ket_i[j]\n",
        "\n",
        "print(f\"V_A = {V_A}\")"
      ],
      "metadata": {
        "colab": {
          "base_uri": "https://localhost:8080/"
        },
        "id": "Sef6kLE7d6nJ",
        "outputId": "9a15925a-905b-4a3f-fc51-f52ca01936b9"
      },
      "execution_count": 260,
      "outputs": [
        {
          "output_type": "stream",
          "name": "stdout",
          "text": [
            "A_0 = [1, 0]\n",
            "|A_0| = 1.0\n",
            "|0〉= [1, 0]\n",
            "|A_i|/|A|_F = 0.7071067811865475\n",
            "(|A_0|/|A|_F)|0〉= [0.7071067811865475, 0.0]\n",
            "\n",
            "A_1 = [0.7071067811865476, 0.7071067811865476]\n",
            "|A_1| = 1.0\n",
            "|1〉= [0, 1]\n",
            "|A_i|/|A|_F = 0.7071067811865475\n",
            "(|A_1|/|A|_F)|1〉= [0.0, 0.7071067811865475]\n",
            "\n",
            "V_A = [0.7071067811865475, 0.7071067811865475]\n"
          ]
        }
      ]
    },
    {
      "cell_type": "markdown",
      "source": [
        "### $U_A$"
      ],
      "metadata": {
        "id": "FepCgAGEeqc4"
      }
    },
    {
      "cell_type": "code",
      "source": [
        "for i in range(m):\n",
        "  U_A = []\n",
        "  for q in range(m * d):\n",
        "    U_A.append(0)\n",
        "  print(\"U_A for i = \", i, \" (initially): \", U_A)\n",
        "  ket_i = []\n",
        "  for x in range(m):\n",
        "    if x == i:\n",
        "      ket_i.append(1)\n",
        "    else:\n",
        "      ket_i.append(0)\n",
        "  for j in range(d):\n",
        "    print(\"A_\", i, \": \", A[i])\n",
        "    # print(\"Goooglooo\")🤺\n",
        "    print(\"A_\", i, j, \": \", A[i][j])\n",
        "    print(\"|\", i, \"〉: \", ket_i)\n",
        "    ket_j = []\n",
        "    for k in range(d):\n",
        "      if k == j:\n",
        "        ket_j.append(1)\n",
        "      else:\n",
        "        ket_j.append(0)\n",
        "    print(\"|\", j, \"〉: \", ket_j)\n",
        "    A_i = norm(A[i])\n",
        "    print(\"|| A_\", i, \" ||: \", A_i)\n",
        "    A_ij_divided_by_A_i = A[i][j]/A_i\n",
        "    print(\"A_\", i, j, \" / || A_\", i, \" ||: \", A[i][j], \"/\", A_i, \" = \", A_ij_divided_by_A_i)\n",
        "    # Tensor ka function banana🍌 hoga\n",
        "    ket_i_tensor_ket_j = []\n",
        "    for l in range(m):\n",
        "      for n in range(d):\n",
        "        ket_i_tensor_ket_j.append(ket_i[l] * ket_j[n])\n",
        "    print(\"|\", i, \"〉|\", j, \"〉: \", ket_i_tensor_ket_j)\n",
        "    for p in range(m * d):\n",
        "      ket_i_tensor_ket_j[p] = A_ij_divided_by_A_i * ket_i_tensor_ket_j[p]\n",
        "    print(\"(A_\", i, j, \" / || A_\", i, \" ||)*|\", i, \"〉|\", j, \"〉: (\", A[i][j], \"/\", A_i, \")*(|\", i, \"〉|\", j, \"〉) = \", ket_i_tensor_ket_j, \"\\n\")\n",
        "    for r in range(m * d):\n",
        "      U_A[r] = U_A[r] + ket_i_tensor_ket_j[r]\n",
        "  print(\"U_A for i = \", i, \": \", U_A, \"\\n\")"
      ],
      "metadata": {
        "id": "19BBd1WRepQX",
        "colab": {
          "base_uri": "https://localhost:8080/"
        },
        "outputId": "65277e86-7e19-4272-9761-76b84ed7b354"
      },
      "execution_count": 261,
      "outputs": [
        {
          "output_type": "stream",
          "name": "stdout",
          "text": [
            "U_A for i =  0  (initially):  [0, 0, 0, 0]\n",
            "A_ 0 :  [1, 0]\n",
            "A_ 0 0 :  1\n",
            "| 0 〉:  [1, 0]\n",
            "| 0 〉:  [1, 0]\n",
            "|| A_ 0  ||:  1.0\n",
            "A_ 0 0  / || A_ 0  ||:  1 / 1.0  =  1.0\n",
            "| 0 〉| 0 〉:  [1, 0, 0, 0]\n",
            "(A_ 0 0  / || A_ 0  ||)*| 0 〉| 0 〉: ( 1 / 1.0 )*(| 0 〉| 0 〉) =  [1.0, 0.0, 0.0, 0.0] \n",
            "\n",
            "A_ 0 :  [1, 0]\n",
            "A_ 0 1 :  0\n",
            "| 0 〉:  [1, 0]\n",
            "| 1 〉:  [0, 1]\n",
            "|| A_ 0  ||:  1.0\n",
            "A_ 0 1  / || A_ 0  ||:  0 / 1.0  =  0.0\n",
            "| 0 〉| 1 〉:  [0, 1, 0, 0]\n",
            "(A_ 0 1  / || A_ 0  ||)*| 0 〉| 1 〉: ( 0 / 1.0 )*(| 0 〉| 1 〉) =  [0.0, 0.0, 0.0, 0.0] \n",
            "\n",
            "U_A for i =  0 :  [1.0, 0.0, 0.0, 0.0] \n",
            "\n",
            "U_A for i =  1  (initially):  [0, 0, 0, 0]\n",
            "A_ 1 :  [0.7071067811865476, 0.7071067811865476]\n",
            "A_ 1 0 :  0.7071067811865476\n",
            "| 1 〉:  [0, 1]\n",
            "| 0 〉:  [1, 0]\n",
            "|| A_ 1  ||:  1.0\n",
            "A_ 1 0  / || A_ 1  ||:  0.7071067811865476 / 1.0  =  0.7071067811865476\n",
            "| 1 〉| 0 〉:  [0, 0, 1, 0]\n",
            "(A_ 1 0  / || A_ 1  ||)*| 1 〉| 0 〉: ( 0.7071067811865476 / 1.0 )*(| 1 〉| 0 〉) =  [0.0, 0.0, 0.7071067811865476, 0.0] \n",
            "\n",
            "A_ 1 :  [0.7071067811865476, 0.7071067811865476]\n",
            "A_ 1 1 :  0.7071067811865476\n",
            "| 1 〉:  [0, 1]\n",
            "| 1 〉:  [0, 1]\n",
            "|| A_ 1  ||:  1.0\n",
            "A_ 1 1  / || A_ 1  ||:  0.7071067811865476 / 1.0  =  0.7071067811865476\n",
            "| 1 〉| 1 〉:  [0, 0, 0, 1]\n",
            "(A_ 1 1  / || A_ 1  ||)*| 1 〉| 1 〉: ( 0.7071067811865476 / 1.0 )*(| 1 〉| 1 〉) =  [0.0, 0.0, 0.0, 0.7071067811865476] \n",
            "\n",
            "U_A for i =  1 :  [0.0, 0.0, 0.7071067811865476, 0.7071067811865476] \n",
            "\n"
          ]
        }
      ]
    },
    {
      "cell_type": "code",
      "source": [
        "# Determinants of n x n matrices using numpy\n",
        "A = [[1, 2, 3],\n",
        "     [4, 5, 6],\n",
        "     [7, 8, 9]]\n",
        "determinant_A = np.linalg.det(A)\n",
        "print(A)\n",
        "print(determinant_A)\n",
        "\n",
        "B = [[1, 0, 4, -6],\n",
        "    [2, 5, 0, 3],\n",
        "    [2, 0, 8, -12],\n",
        "    [2, 1, -2, 3]]\n",
        "determinant_B = np.linalg.det(B)\n",
        "print(B)\n",
        "print(determinant_B)\n",
        "\n",
        "C = [[1, 1, -1],\n",
        "     [1, 2, 2],\n",
        "     [0, 3, 4]]\n",
        "determinant_C = np.linalg.det(C)\n",
        "print(C)\n",
        "print(determinant_C)\n",
        "\n",
        "\n",
        "X = [[0.5, 0.5, 0.5, 0.5],\n",
        "     [0.5, -0.5, 0.5, 0.5],\n",
        "     [0.5, 0.5, -0.5, 0.5],\n",
        "     [0.5, -0.5, -0.5, -0.5]]\n",
        "determinant_X = np.linalg.det(X)\n",
        "print(X)\n",
        "print(determinant_X)"
      ],
      "metadata": {
        "colab": {
          "base_uri": "https://localhost:8080/"
        },
        "id": "4igRvr4fQESD",
        "outputId": "ee79b1e1-dbca-4222-fdc2-548f12aac937"
      },
      "execution_count": 262,
      "outputs": [
        {
          "output_type": "stream",
          "name": "stdout",
          "text": [
            "[[1, 2, 3], [4, 5, 6], [7, 8, 9]]\n",
            "0.0\n",
            "[[1, 0, 4, -6], [2, 5, 0, 3], [2, 0, 8, -12], [2, 1, -2, 3]]\n",
            "0.0\n",
            "[[1, 1, -1], [1, 2, 2], [0, 3, 4]]\n",
            "-5.000000000000001\n",
            "[[0.5, 0.5, 0.5, 0.5], [0.5, -0.5, 0.5, 0.5], [0.5, 0.5, -0.5, 0.5], [0.5, -0.5, -0.5, -0.5]]\n",
            "-0.5\n"
          ]
        }
      ]
    },
    {
      "cell_type": "code",
      "source": [
        "# Dot product of vectors\n",
        "# print(len(X))\n",
        "\n",
        "X = [[0.5, 0.5, 0.5, 0.5],\n",
        "     [0.5, -0.5, 0.5, 0.5],\n",
        "     [0.5, 0.5, -0.5, 0.5],\n",
        "     [0.5, -0.5, -0.5, -0.5]]\n",
        "print(\"X: \", X)\n",
        "\n",
        "n = len(X)\n",
        "transpose_X = [] # To access columns easily\n",
        "\n",
        "for i in range(n):\n",
        "  i_th_column = []\n",
        "  for j in range(n):\n",
        "    i_th_column.append(X[j][i])\n",
        "  transpose_X.append(i_th_column)\n",
        "\n",
        "print(\"Transpose of X: \", transpose_X, \"(to access columns easily)\")\n",
        "\n",
        "for i in range(n):\n",
        "  for j in range(n):\n",
        "    if j > i and np.dot(transpose_X[i], transpose_X[j]) == 0:\n",
        "      print(\"transpose_X[\", i, \"] = \", transpose_X[i], \", transpose_X[\", j, \"] = \", transpose_X[j],\" are perpendicular\")\n",
        "    if j > i and np.dot(transpose_X[i], transpose_X[j]) != 0:\n",
        "      print(\"transpose_X[\", i, \"] = \", transpose_X[i], \", transpose_X[\", j, \"] = \", transpose_X[j],\" are not perpendicular\")"
      ],
      "metadata": {
        "colab": {
          "base_uri": "https://localhost:8080/"
        },
        "id": "7luy6ZTGUnNR",
        "outputId": "ce6858fb-768e-4a14-efde-7516c5479f7e"
      },
      "execution_count": 263,
      "outputs": [
        {
          "output_type": "stream",
          "name": "stdout",
          "text": [
            "X:  [[0.5, 0.5, 0.5, 0.5], [0.5, -0.5, 0.5, 0.5], [0.5, 0.5, -0.5, 0.5], [0.5, -0.5, -0.5, -0.5]]\n",
            "Transpose of X:  [[0.5, 0.5, 0.5, 0.5], [0.5, -0.5, 0.5, -0.5], [0.5, 0.5, -0.5, -0.5], [0.5, 0.5, 0.5, -0.5]] (to access columns easily)\n",
            "transpose_X[ 0 ] =  [0.5, 0.5, 0.5, 0.5] , transpose_X[ 1 ] =  [0.5, -0.5, 0.5, -0.5]  are perpendicular\n",
            "transpose_X[ 0 ] =  [0.5, 0.5, 0.5, 0.5] , transpose_X[ 2 ] =  [0.5, 0.5, -0.5, -0.5]  are perpendicular\n",
            "transpose_X[ 0 ] =  [0.5, 0.5, 0.5, 0.5] , transpose_X[ 3 ] =  [0.5, 0.5, 0.5, -0.5]  are not perpendicular\n",
            "transpose_X[ 1 ] =  [0.5, -0.5, 0.5, -0.5] , transpose_X[ 2 ] =  [0.5, 0.5, -0.5, -0.5]  are perpendicular\n",
            "transpose_X[ 1 ] =  [0.5, -0.5, 0.5, -0.5] , transpose_X[ 3 ] =  [0.5, 0.5, 0.5, -0.5]  are not perpendicular\n",
            "transpose_X[ 2 ] =  [0.5, 0.5, -0.5, -0.5] , transpose_X[ 3 ] =  [0.5, 0.5, 0.5, -0.5]  are not perpendicular\n"
          ]
        }
      ]
    },
    {
      "cell_type": "code",
      "source": [
        "# Projection Time!\n",
        "\n",
        "def proj(u_j, v_i):\n",
        "  inner_product_u_j_v_i_divided_by_inner_product_u_j_u_j = np.dot(v_i, u_j)/np.dot(u_j, u_j)\n",
        "  # print(\"v, u\", np.dot(v_i, u_j))\n",
        "  # print(\"u, u\", np.dot(u_j, u_j))\n",
        "  # u_k = []\n",
        "  # for x in range(u_j.size):\n",
        "  #   # print(u_j[x])\n",
        "  #   u_k.append(u_j[x])\n",
        "  # for i in range(u_j.size):\n",
        "  #   u_k[i] = u_k[i] * inner_product_u_j_v_i_divided_by_inner_product_u_j_u_j\n",
        "  u_j = u_j * inner_product_u_j_v_i_divided_by_inner_product_u_j_u_j\n",
        "  # print(\"u_k\", u_k, \"   u_j\", u_j)\n",
        "  # if (u_k == u_j).all():\n",
        "  #   print(\"opa!\")\n",
        "  return u_j\n",
        "\n",
        "# v4 - proj_u1(v4)- proj_u2(v4)- proj_u3(v4)\n",
        "# proj_x(y) = ( ⟨y, x〉/ ⟨x, x〉)*x= ((y dot x)/(x dot x))*x\n",
        "\n",
        "U = []\n",
        "\n",
        "for i in range(n):\n",
        "  # print(transpose_X[i])\n",
        "  v_i = np.array(transpose_X[i])\n",
        "  u_i = v_i\n",
        "  print(\"v_\", i, \": \", v_i)\n",
        "  print(\"u_\", i, \": \", u_i, \"(initially)\")\n",
        "  # print(u_i)\n",
        "  for j in range(n):\n",
        "    if j < i:\n",
        "      # print(transpose_X[i])\n",
        "      # print(i, \" \", j)\n",
        "      print(\"proj_u_\", j, \"(v_\", i, \"): \", proj(U[j], v_i))\n",
        "      u_i = u_i - proj(U[j], v_i)\n",
        "  print(\"u_\", i, \": \", u_i, \"(final)\")\n",
        "  U.append(u_i)\n",
        "  print(\"U : \", U, \"\\n\")\n",
        "\n",
        "# column1 = np.array([0.5, 0.5, 0.5, 0.5])\n",
        "# print(np.dot(column1, column1))\n",
        "print(\"U : \", U, \"(Final)\\n\")"
      ],
      "metadata": {
        "colab": {
          "base_uri": "https://localhost:8080/"
        },
        "id": "WxY5Mu3mMENj",
        "outputId": "202f537e-f72a-451f-a2f8-e08e8da0381f"
      },
      "execution_count": 264,
      "outputs": [
        {
          "output_type": "stream",
          "name": "stdout",
          "text": [
            "v_ 0 :  [0.5 0.5 0.5 0.5]\n",
            "u_ 0 :  [0.5 0.5 0.5 0.5] (initially)\n",
            "u_ 0 :  [0.5 0.5 0.5 0.5] (final)\n",
            "U :  [array([0.5, 0.5, 0.5, 0.5])] \n",
            "\n",
            "v_ 1 :  [ 0.5 -0.5  0.5 -0.5]\n",
            "u_ 1 :  [ 0.5 -0.5  0.5 -0.5] (initially)\n",
            "proj_u_ 0 (v_ 1 ):  [0. 0. 0. 0.]\n",
            "u_ 1 :  [ 0.5 -0.5  0.5 -0.5] (final)\n",
            "U :  [array([0.5, 0.5, 0.5, 0.5]), array([ 0.5, -0.5,  0.5, -0.5])] \n",
            "\n",
            "v_ 2 :  [ 0.5  0.5 -0.5 -0.5]\n",
            "u_ 2 :  [ 0.5  0.5 -0.5 -0.5] (initially)\n",
            "proj_u_ 0 (v_ 2 ):  [0. 0. 0. 0.]\n",
            "proj_u_ 1 (v_ 2 ):  [ 0. -0.  0. -0.]\n",
            "u_ 2 :  [ 0.5  0.5 -0.5 -0.5] (final)\n",
            "U :  [array([0.5, 0.5, 0.5, 0.5]), array([ 0.5, -0.5,  0.5, -0.5]), array([ 0.5,  0.5, -0.5, -0.5])] \n",
            "\n",
            "v_ 3 :  [ 0.5  0.5  0.5 -0.5]\n",
            "u_ 3 :  [ 0.5  0.5  0.5 -0.5] (initially)\n",
            "proj_u_ 0 (v_ 3 ):  [0.25 0.25 0.25 0.25]\n",
            "proj_u_ 1 (v_ 3 ):  [ 0.25 -0.25  0.25 -0.25]\n",
            "proj_u_ 2 (v_ 3 ):  [ 0.25  0.25 -0.25 -0.25]\n",
            "u_ 3 :  [-0.25  0.25  0.25 -0.25] (final)\n",
            "U :  [array([0.5, 0.5, 0.5, 0.5]), array([ 0.5, -0.5,  0.5, -0.5]), array([ 0.5,  0.5, -0.5, -0.5]), array([-0.25,  0.25,  0.25, -0.25])] \n",
            "\n",
            "U :  [array([0.5, 0.5, 0.5, 0.5]), array([ 0.5, -0.5,  0.5, -0.5]), array([ 0.5,  0.5, -0.5, -0.5]), array([-0.25,  0.25,  0.25, -0.25])] (Final)\n",
            "\n"
          ]
        }
      ]
    },
    {
      "cell_type": "code",
      "source": [
        "# Doing Quantum Gram-Schmidt now"
      ],
      "metadata": {
        "id": "DKqIQ-_mtZlE"
      },
      "execution_count": 265,
      "outputs": []
    },
    {
      "cell_type": "code",
      "source": [
        "# 1. Define n\n",
        "# 2. 2^n x (2^n + n)\n",
        "# 3. First n columns populate truth-table-style\n",
        "# 4. Make s's (might be able to reuse x's)\n",
        "# 5. Input: size n all zeros ket\n",
        "# 6. Apply Hadamard\n",
        "# 7. Find Uf for all s's || x1.s1 XOR x2.s2...\n",
        "# 8. Populate other columns\n",
        "# 9. True/False orthogonal matrix"
      ],
      "metadata": {
        "id": "unJOQ58at-Qo"
      },
      "execution_count": 266,
      "outputs": []
    },
    {
      "cell_type": "code",
      "source": [
        "# n =  2 # No. of bits\n",
        "# M = (1 << n) \t# No. of rows (2^n)\n",
        "# N = (1 << n) + n \t# No. of columns (2^n + n)\n",
        "\n",
        "# Table = [] # Final table\n",
        "\n",
        "# # Making my final table\n",
        "# for row in range(M):\n",
        "#   Table.append([])\n",
        "#   for column in range(N):\n",
        "#     Table[row].append(0)\n",
        "\n",
        "# print(Table)"
      ],
      "metadata": {
        "id": "jl6TfeFeuKan"
      },
      "execution_count": 267,
      "outputs": []
    },
    {
      "cell_type": "code",
      "source": [
        "# x = 3\n",
        "\n",
        "# for col in range(x):\n",
        "#   bit = '0'\n",
        "#   count = 0\n",
        "#   powerOfTwo = (1 << (x - 1 - col))\n",
        "#   print('2^', col, ': ', powerOfTwo)\n",
        "#   for i in range(1 << x):\n",
        "#     if count >= powerOfTwo:\n",
        "#       count = 0\n",
        "#       if bit == '0':\n",
        "#         bit = '1'\n",
        "#       elif bit == '1':\n",
        "#         bit = '0'\n",
        "#     print(bit, ' count: ', count)\n",
        "#     count = count + 1\n",
        "#   print('\\n')"
      ],
      "metadata": {
        "id": "JAQah0LlAssc"
      },
      "execution_count": 268,
      "outputs": []
    },
    {
      "cell_type": "code",
      "source": [
        "# # Populating truth-table-style\n",
        "# for column in range(n):\n",
        "#   bit = '0'\n",
        "#   count = 0\n",
        "#   powerOfTwo = (1 << (n - 1 - column))\n",
        "#   for row in range(M):\n",
        "#     if count >= powerOfTwo:\n",
        "#       count = 0\n",
        "#       if bit == '0':\n",
        "#         bit = '1'\n",
        "#       elif bit == '1':\n",
        "#         bit = '0'\n",
        "#     # print(bit, ' count: ', count)\n",
        "#     Table[row][column] = bit\n",
        "#     count = count + 1\n",
        "\n",
        "# for row in range(M):\n",
        "#   print(Table[row], \"\\n\")"
      ],
      "metadata": {
        "id": "eC1QvVb9v8jK"
      },
      "execution_count": 269,
      "outputs": []
    },
    {
      "cell_type": "code",
      "source": [
        "# Populating truth-table-style\n",
        "# for column in range(n):\n",
        "#   for row in range(M):\n",
        "#     Table[row][column] = str(row) + '' + str(column)\n",
        "\n",
        "\n",
        "\n",
        "# Abandon\n",
        "# print(Table)\n",
        "\n",
        "\n",
        "# def generate_truth_table(n):\n",
        "#     truth_table = []\n",
        "#     max_value = M\n",
        "\n",
        "#     for i in range(max_value):\n",
        "#         binary_string = bin(i)[2:].zfill(n)  # Convert to binary string of length n\n",
        "#         print(binary_string)\n",
        "#         truth_table.append(list(map(int, list(binary_string))))\n",
        "\n",
        "#     return truth_table\n",
        "\n",
        "# # Example usage\n",
        "# n = 3  # Specify the value of n\n",
        "# result = generate_truth_table(n)\n",
        "# print(result)\n"
      ],
      "metadata": {
        "id": "BUFVwQfFxYnJ"
      },
      "execution_count": 270,
      "outputs": []
    },
    {
      "cell_type": "code",
      "source": [
        "# for row in range(M):\n",
        "#   X = []\n",
        "#   for column in range(N):\n",
        "#     if column < n:\n",
        "#       # Define X\n",
        "#       X.append(Table[row][column])\n",
        "#     else # if column > (n - 1):\n",
        "#       for x in range(M):\n",
        "#         S = [] # Define S\n",
        "#         for i in range(n):\n"
      ],
      "metadata": {
        "id": "2hAP8Il8yG-Z"
      },
      "execution_count": 271,
      "outputs": []
    },
    {
      "cell_type": "code",
      "source": [
        "# # Trying new approach keeping X tables\n",
        "\n",
        "# JustXTable = []\n",
        "# for row in range(M):\n",
        "#   X = []\n",
        "#   for column in range(n):\n",
        "#     X.append(Table[row][column])\n",
        "#   JustXTable.append(X)\n",
        "\n",
        "# print(\"JustXTable: \", JustXTable, \"\\n\")\n",
        "\n",
        "# for X in range(M):\n",
        "#   for S in range(M):\n",
        "#     print(\"X: \", JustXTable[X])\n",
        "#     print(\"S: \", JustXTable[S])\n",
        "#     ListOfAnds = []\n",
        "#     for i in range(n):\n",
        "#       ListOfAnds.append(JustXTable[X][i] + '.' + JustXTable[S][i])\n",
        "#     print(\"ListOfAnds: \", ListOfAnds)\n",
        "#     XOROfListOfAnds = ''\n",
        "#     for i in range(n):\n",
        "#       if i == (n - 1):\n",
        "#         XOROfListOfAnds = XOROfListOfAnds + ListOfAnds[i]\n",
        "#       else:\n",
        "#         XOROfListOfAnds = XOROfListOfAnds + ListOfAnds[i] + ' ⊕ '\n",
        "#     print(\"XOROfListOfAnds: \", XOROfListOfAnds)\n",
        "#     Table[X][S + n] = XOROfListOfAnds\n",
        "#     print(\"\\n\")\n",
        "#   print(\"\\n\\n\")\n",
        "\n",
        "# # print(Table)\n",
        "# for row in range(M):\n",
        "#   print(Table[row], \"\\n\")\n",
        "# #   for column in range(N):\n",
        "# #     if column > (n - 1):\n",
        "\n"
      ],
      "metadata": {
        "id": "Fqms9rVZ1cmy"
      },
      "execution_count": 272,
      "outputs": []
    },
    {
      "cell_type": "code",
      "source": [
        "# n =  2 # No. of bits\n",
        "# M = (1 << n) \t# No. of rows (2^n)\n",
        "# N = (1 << n) + n \t# No. of columns (2^n + n)\n",
        "\n",
        "# Table = [] # Final table\n",
        "\n",
        "# for row in range(M):\n",
        "#   Table.append([])\n",
        "#   for column in range(N):\n",
        "#     Table[row].append(0)\n",
        "\n",
        "# for column in range(n):\n",
        "#   bit = 0\n",
        "#   count = 0\n",
        "#   powerOfTwo = (1 << (n - 1 - column))\n",
        "#   for row in range(M):\n",
        "#     if count >= powerOfTwo:\n",
        "#       count = 0\n",
        "#       if bit == 0:\n",
        "#         bit = 1\n",
        "#       elif bit == 1:\n",
        "#         bit = 0\n",
        "#     Table[row][column] = bit\n",
        "#     count = count + 1\n",
        "\n",
        "# JustXTable = []\n",
        "# for row in range(M):\n",
        "#   X = []\n",
        "#   for column in range(n):\n",
        "#     X.append(Table[row][column])\n",
        "#   JustXTable.append(X)\n",
        "\n",
        "# for X in range(M):\n",
        "#   for S in range(M):\n",
        "#     ListOfAnds = []\n",
        "#     for i in range(n):\n",
        "#       ListOfAnds.append(str(JustXTable[X][i]) + '.' + str(JustXTable[S][i]))\n",
        "#     XOROfListOfAnds = ''\n",
        "#     for i in range(n):\n",
        "#       if i == (n - 1):\n",
        "#         XOROfListOfAnds = XOROfListOfAnds + ListOfAnds[i]\n",
        "#       else:\n",
        "#         XOROfListOfAnds = XOROfListOfAnds + ListOfAnds[i] + ' ⊕ '\n",
        "#     Table[X][S + n] = XOROfListOfAnds\n",
        "\n",
        "# print(\"Formula: \\n\")\n",
        "\n",
        "# for row in range(M):\n",
        "#   print(Table[row], \"\\n\")\n",
        "\n",
        "\n",
        "# # print(\"After calculating values: \\n\")\n",
        "\n",
        "# # for row in range(M):\n",
        "# #   print(Table[row], \"\\n\")\n"
      ],
      "metadata": {
        "colab": {
          "base_uri": "https://localhost:8080/"
        },
        "id": "SMrrwE9hJscf",
        "outputId": "45e789ea-6f39-49a6-ae50-bd67fbbf56bb"
      },
      "execution_count": 273,
      "outputs": [
        {
          "output_type": "stream",
          "name": "stdout",
          "text": [
            "Formula: \n",
            "\n",
            "[0, 0, '0.0 ⊕ 0.0', '0.0 ⊕ 0.1', '0.1 ⊕ 0.0', '0.1 ⊕ 0.1'] \n",
            "\n",
            "[0, 1, '0.0 ⊕ 1.0', '0.0 ⊕ 1.1', '0.1 ⊕ 1.0', '0.1 ⊕ 1.1'] \n",
            "\n",
            "[1, 0, '1.0 ⊕ 0.0', '1.0 ⊕ 0.1', '1.1 ⊕ 0.0', '1.1 ⊕ 0.1'] \n",
            "\n",
            "[1, 1, '1.0 ⊕ 1.0', '1.0 ⊕ 1.1', '1.1 ⊕ 1.0', '1.1 ⊕ 1.1'] \n",
            "\n"
          ]
        }
      ]
    },
    {
      "cell_type": "code",
      "source": [
        "# print(0 & 0)\n",
        "# print(0 & 1)\n",
        "# print(1 & 0)\n",
        "# print(1 & 1)"
      ],
      "metadata": {
        "colab": {
          "base_uri": "https://localhost:8080/"
        },
        "id": "7-D1AcGBLzd5",
        "outputId": "84dc73fd-4790-4716-b0f6-7577dc413fe2"
      },
      "execution_count": 275,
      "outputs": [
        {
          "output_type": "stream",
          "name": "stdout",
          "text": [
            "0\n",
            "0\n",
            "0\n",
            "1\n"
          ]
        }
      ]
    },
    {
      "cell_type": "code",
      "source": [
        "# print(0 ^ 0)\n",
        "# print(0 ^ 1)\n",
        "# print(1 ^ 0)\n",
        "# print(1 ^ 1)"
      ],
      "metadata": {
        "colab": {
          "base_uri": "https://localhost:8080/"
        },
        "id": "6SOjKwYGMrq5",
        "outputId": "eb2ca9c5-4a40-4ab6-d722-ad26efc8563f"
      },
      "execution_count": 276,
      "outputs": [
        {
          "output_type": "stream",
          "name": "stdout",
          "text": [
            "0\n",
            "1\n",
            "1\n",
            "0\n"
          ]
        }
      ]
    },
    {
      "cell_type": "code",
      "source": [
        "# for X in range(M):\n",
        "#   for S in range(M):\n",
        "#     ListOfAnds = []\n",
        "#     for i in range(n):\n",
        "#       ListOfAnds.append(JustXTable[X][i] & JustXTable[S][i]) # ANDing xi and si\n",
        "#     XOROfListOfAnds = ListOfAnds[0]\n",
        "#     for i in range(n):\n",
        "#       if i != 0:\n",
        "#         XOROfListOfAnds = XOROfListOfAnds ^ ListOfAnds[i] # XORing xi.si with next xi.si\n",
        "#     Table[X][S + n] = XOROfListOfAnds\n",
        "\n",
        "# # for X in range(M):\n",
        "# #   for S in range(M):\n",
        "# #     ListOfAnds = []\n",
        "# #     for i in range(n):\n",
        "# #       ListOfAnds.append(JustXTable[X][i] + '.' + JustXTable[S][i])\n",
        "# #     XOROfListOfAnds = ''\n",
        "# #     for i in range(n):\n",
        "# #       if i == (n - 1):\n",
        "# #         XOROfListOfAnds = XOROfListOfAnds + ListOfAnds[i]\n",
        "# #       else:\n",
        "# #         XOROfListOfAnds = XOROfListOfAnds + ListOfAnds[i] + ' ⊕ '\n",
        "# #     Table[X][S + n] = XOROfListOfAnds\n",
        "\n",
        "# print(\"After calculating values: \\n\")\n",
        "\n",
        "# for row in range(M):\n",
        "#   print(Table[row], \"\\n\")"
      ],
      "metadata": {
        "colab": {
          "base_uri": "https://localhost:8080/"
        },
        "id": "VXalJmHrLDmI",
        "outputId": "46d550eb-aae2-4f0c-b1f2-74851dbebb69"
      },
      "execution_count": 274,
      "outputs": [
        {
          "output_type": "stream",
          "name": "stdout",
          "text": [
            "After calculating values: \n",
            "\n",
            "[0, 0, 0, 0, 0, 0] \n",
            "\n",
            "[0, 1, 0, 1, 0, 1] \n",
            "\n",
            "[1, 0, 0, 0, 1, 1] \n",
            "\n",
            "[1, 1, 0, 1, 1, 0] \n",
            "\n"
          ]
        }
      ]
    },
    {
      "cell_type": "code",
      "source": [
        "n =  2 # No. of bits\n",
        "M = (1 << n) \t# No. of rows (2^n)\n",
        "N = (1 << n) + n \t# No. of columns (2^n + n)\n",
        "\n",
        "Table = [] # Final table\n",
        "\n",
        "for row in range(M):\n",
        "  Table.append([])\n",
        "  for column in range(N):\n",
        "    Table[row].append(0)\n",
        "\n",
        "for column in range(n):\n",
        "  bit = 0\n",
        "  count = 0\n",
        "  powerOfTwo = (1 << (n - 1 - column))\n",
        "  for row in range(M):\n",
        "    if count >= powerOfTwo:\n",
        "      count = 0\n",
        "      if bit == 0:\n",
        "        bit = 1\n",
        "      elif bit == 1:\n",
        "        bit = 0\n",
        "    Table[row][column] = bit\n",
        "    count = count + 1\n",
        "\n",
        "JustXTable = []\n",
        "for row in range(M):\n",
        "  X = []\n",
        "  for column in range(n):\n",
        "    X.append(Table[row][column])\n",
        "  JustXTable.append(X)\n",
        "\n",
        "for X in range(M):\n",
        "  for S in range(M):\n",
        "    ListOfAnds = []\n",
        "    for i in range(n):\n",
        "      ListOfAnds.append(str(JustXTable[X][i]) + '.' + str(JustXTable[S][i]))\n",
        "    XOROfListOfAnds = ''\n",
        "    for i in range(n):\n",
        "      if i == (n - 1):\n",
        "        XOROfListOfAnds = XOROfListOfAnds + ListOfAnds[i]\n",
        "      else:\n",
        "        XOROfListOfAnds = XOROfListOfAnds + ListOfAnds[i] + ' ⊕ '\n",
        "    Table[X][S + n] = XOROfListOfAnds\n",
        "\n",
        "print(\"Formula: \\n\")\n",
        "\n",
        "for row in range(M):\n",
        "  print(Table[row], \"\\n\")\n",
        "\n",
        "print(\"After calculating values classically: \\n\")\n",
        "\n",
        "for X in range(M):\n",
        "  for S in range(M):\n",
        "    ListOfAnds = []\n",
        "    for i in range(n):\n",
        "      ListOfAnds.append(JustXTable[X][i] & JustXTable[S][i]) # ANDing xi and si\n",
        "    XOROfListOfAnds = ListOfAnds[0]\n",
        "    for i in range(n):\n",
        "      if i != 0:\n",
        "        XOROfListOfAnds = XOROfListOfAnds ^ ListOfAnds[i] # XORing xi.si with next xi.si\n",
        "    Table[X][S + n] = XOROfListOfAnds\n",
        "\n",
        "for row in range(M):\n",
        "  print(Table[row], \"\\n\")\n",
        "\n",
        "print(\"After calculating values quantum-way: \\n\")\n",
        "\n",
        "for row in range(M):\n",
        "  for column in range(N):\n",
        "    if column > (n - 1):\n",
        "      if Table[row][column] == 0:\n",
        "        Table[row][column] = 0.5\n",
        "      elif Table[row][column] == 1:\n",
        "        Table[row][column] = -0.5\n",
        "\n",
        "for row in range(M):\n",
        "  print(Table[row], \"\\n\")"
      ],
      "metadata": {
        "colab": {
          "base_uri": "https://localhost:8080/"
        },
        "id": "fBAzn96SNavw",
        "outputId": "a6dad4e9-6169-49ad-943c-c0ab5edcc04e"
      },
      "execution_count": 279,
      "outputs": [
        {
          "output_type": "stream",
          "name": "stdout",
          "text": [
            "Formula: \n",
            "\n",
            "[0, 0, '0.0 ⊕ 0.0', '0.0 ⊕ 0.1', '0.1 ⊕ 0.0', '0.1 ⊕ 0.1'] \n",
            "\n",
            "[0, 1, '0.0 ⊕ 1.0', '0.0 ⊕ 1.1', '0.1 ⊕ 1.0', '0.1 ⊕ 1.1'] \n",
            "\n",
            "[1, 0, '1.0 ⊕ 0.0', '1.0 ⊕ 0.1', '1.1 ⊕ 0.0', '1.1 ⊕ 0.1'] \n",
            "\n",
            "[1, 1, '1.0 ⊕ 1.0', '1.0 ⊕ 1.1', '1.1 ⊕ 1.0', '1.1 ⊕ 1.1'] \n",
            "\n",
            "After calculating values classically: \n",
            "\n",
            "[0, 0, 0, 0, 0, 0] \n",
            "\n",
            "[0, 1, 0, 1, 0, 1] \n",
            "\n",
            "[1, 0, 0, 0, 1, 1] \n",
            "\n",
            "[1, 1, 0, 1, 1, 0] \n",
            "\n",
            "After calculating values quantum-way: \n",
            "\n",
            "[0, 0, 0.5, 0.5, 0.5, 0.5] \n",
            "\n",
            "[0, 1, 0.5, -0.5, 0.5, -0.5] \n",
            "\n",
            "[1, 0, 0.5, 0.5, -0.5, -0.5] \n",
            "\n",
            "[1, 1, 0.5, -0.5, -0.5, 0.5] \n",
            "\n"
          ]
        }
      ]
    }
  ]
}